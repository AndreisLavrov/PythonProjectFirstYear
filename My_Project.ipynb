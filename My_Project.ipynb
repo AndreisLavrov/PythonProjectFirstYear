{
  "nbformat": 4,
  "nbformat_minor": 0,
  "metadata": {
    "colab": {
      "provenance": [],
      "authorship_tag": "ABX9TyNpm2j2dSBn1Av/xA7wel3b"
    },
    "kernelspec": {
      "name": "python3",
      "display_name": "Python 3"
    },
    "language_info": {
      "name": "python"
    }
  },
  "cells": [
    {
      "cell_type": "code",
      "metadata": {
        "colab": {
          "base_uri": "https://localhost:8080/",
          "height": 39
        },
        "id": "tKfrdtUALT_z",
        "outputId": "70035ceb-5e1f-4081-8751-2d3fca21cbf7"
      },
      "source": [
        "from google.colab import files\n",
        "uploaded = files.upload()\n"
      ],
      "execution_count": null,
      "outputs": [
        {
          "data": {
            "text/html": [
              "\n",
              "     <input type=\"file\" id=\"files-836c5652-cc90-4f4c-bb25-114e0070f75d\" name=\"files[]\" multiple disabled\n",
              "        style=\"border:none\" />\n",
              "     <output id=\"result-836c5652-cc90-4f4c-bb25-114e0070f75d\">\n",
              "      Upload widget is only available when the cell has been executed in the\n",
              "      current browser session. Please rerun this cell to enable.\n",
              "      </output>\n",
              "      <script>// Copyright 2017 Google LLC\n",
              "//\n",
              "// Licensed under the Apache License, Version 2.0 (the \"License\");\n",
              "// you may not use this file except in compliance with the License.\n",
              "// You may obtain a copy of the License at\n",
              "//\n",
              "//      http://www.apache.org/licenses/LICENSE-2.0\n",
              "//\n",
              "// Unless required by applicable law or agreed to in writing, software\n",
              "// distributed under the License is distributed on an \"AS IS\" BASIS,\n",
              "// WITHOUT WARRANTIES OR CONDITIONS OF ANY KIND, either express or implied.\n",
              "// See the License for the specific language governing permissions and\n",
              "// limitations under the License.\n",
              "\n",
              "/**\n",
              " * @fileoverview Helpers for google.colab Python module.\n",
              " */\n",
              "(function(scope) {\n",
              "function span(text, styleAttributes = {}) {\n",
              "  const element = document.createElement('span');\n",
              "  element.textContent = text;\n",
              "  for (const key of Object.keys(styleAttributes)) {\n",
              "    element.style[key] = styleAttributes[key];\n",
              "  }\n",
              "  return element;\n",
              "}\n",
              "\n",
              "// Max number of bytes which will be uploaded at a time.\n",
              "const MAX_PAYLOAD_SIZE = 100 * 1024;\n",
              "\n",
              "function _uploadFiles(inputId, outputId) {\n",
              "  const steps = uploadFilesStep(inputId, outputId);\n",
              "  const outputElement = document.getElementById(outputId);\n",
              "  // Cache steps on the outputElement to make it available for the next call\n",
              "  // to uploadFilesContinue from Python.\n",
              "  outputElement.steps = steps;\n",
              "\n",
              "  return _uploadFilesContinue(outputId);\n",
              "}\n",
              "\n",
              "// This is roughly an async generator (not supported in the browser yet),\n",
              "// where there are multiple asynchronous steps and the Python side is going\n",
              "// to poll for completion of each step.\n",
              "// This uses a Promise to block the python side on completion of each step,\n",
              "// then passes the result of the previous step as the input to the next step.\n",
              "function _uploadFilesContinue(outputId) {\n",
              "  const outputElement = document.getElementById(outputId);\n",
              "  const steps = outputElement.steps;\n",
              "\n",
              "  const next = steps.next(outputElement.lastPromiseValue);\n",
              "  return Promise.resolve(next.value.promise).then((value) => {\n",
              "    // Cache the last promise value to make it available to the next\n",
              "    // step of the generator.\n",
              "    outputElement.lastPromiseValue = value;\n",
              "    return next.value.response;\n",
              "  });\n",
              "}\n",
              "\n",
              "/**\n",
              " * Generator function which is called between each async step of the upload\n",
              " * process.\n",
              " * @param {string} inputId Element ID of the input file picker element.\n",
              " * @param {string} outputId Element ID of the output display.\n",
              " * @return {!Iterable<!Object>} Iterable of next steps.\n",
              " */\n",
              "function* uploadFilesStep(inputId, outputId) {\n",
              "  const inputElement = document.getElementById(inputId);\n",
              "  inputElement.disabled = false;\n",
              "\n",
              "  const outputElement = document.getElementById(outputId);\n",
              "  outputElement.innerHTML = '';\n",
              "\n",
              "  const pickedPromise = new Promise((resolve) => {\n",
              "    inputElement.addEventListener('change', (e) => {\n",
              "      resolve(e.target.files);\n",
              "    });\n",
              "  });\n",
              "\n",
              "  const cancel = document.createElement('button');\n",
              "  inputElement.parentElement.appendChild(cancel);\n",
              "  cancel.textContent = 'Cancel upload';\n",
              "  const cancelPromise = new Promise((resolve) => {\n",
              "    cancel.onclick = () => {\n",
              "      resolve(null);\n",
              "    };\n",
              "  });\n",
              "\n",
              "  // Wait for the user to pick the files.\n",
              "  const files = yield {\n",
              "    promise: Promise.race([pickedPromise, cancelPromise]),\n",
              "    response: {\n",
              "      action: 'starting',\n",
              "    }\n",
              "  };\n",
              "\n",
              "  cancel.remove();\n",
              "\n",
              "  // Disable the input element since further picks are not allowed.\n",
              "  inputElement.disabled = true;\n",
              "\n",
              "  if (!files) {\n",
              "    return {\n",
              "      response: {\n",
              "        action: 'complete',\n",
              "      }\n",
              "    };\n",
              "  }\n",
              "\n",
              "  for (const file of files) {\n",
              "    const li = document.createElement('li');\n",
              "    li.append(span(file.name, {fontWeight: 'bold'}));\n",
              "    li.append(span(\n",
              "        `(${file.type || 'n/a'}) - ${file.size} bytes, ` +\n",
              "        `last modified: ${\n",
              "            file.lastModifiedDate ? file.lastModifiedDate.toLocaleDateString() :\n",
              "                                    'n/a'} - `));\n",
              "    const percent = span('0% done');\n",
              "    li.appendChild(percent);\n",
              "\n",
              "    outputElement.appendChild(li);\n",
              "\n",
              "    const fileDataPromise = new Promise((resolve) => {\n",
              "      const reader = new FileReader();\n",
              "      reader.onload = (e) => {\n",
              "        resolve(e.target.result);\n",
              "      };\n",
              "      reader.readAsArrayBuffer(file);\n",
              "    });\n",
              "    // Wait for the data to be ready.\n",
              "    let fileData = yield {\n",
              "      promise: fileDataPromise,\n",
              "      response: {\n",
              "        action: 'continue',\n",
              "      }\n",
              "    };\n",
              "\n",
              "    // Use a chunked sending to avoid message size limits. See b/62115660.\n",
              "    let position = 0;\n",
              "    do {\n",
              "      const length = Math.min(fileData.byteLength - position, MAX_PAYLOAD_SIZE);\n",
              "      const chunk = new Uint8Array(fileData, position, length);\n",
              "      position += length;\n",
              "\n",
              "      const base64 = btoa(String.fromCharCode.apply(null, chunk));\n",
              "      yield {\n",
              "        response: {\n",
              "          action: 'append',\n",
              "          file: file.name,\n",
              "          data: base64,\n",
              "        },\n",
              "      };\n",
              "\n",
              "      let percentDone = fileData.byteLength === 0 ?\n",
              "          100 :\n",
              "          Math.round((position / fileData.byteLength) * 100);\n",
              "      percent.textContent = `${percentDone}% done`;\n",
              "\n",
              "    } while (position < fileData.byteLength);\n",
              "  }\n",
              "\n",
              "  // All done.\n",
              "  yield {\n",
              "    response: {\n",
              "      action: 'complete',\n",
              "    }\n",
              "  };\n",
              "}\n",
              "\n",
              "scope.google = scope.google || {};\n",
              "scope.google.colab = scope.google.colab || {};\n",
              "scope.google.colab._files = {\n",
              "  _uploadFiles,\n",
              "  _uploadFilesContinue,\n",
              "};\n",
              "})(self);\n",
              "</script> "
            ],
            "text/plain": [
              "<IPython.core.display.HTML object>"
            ]
          },
          "metadata": {},
          "output_type": "display_data"
        }
      ]
    },
    {
      "cell_type": "code",
      "metadata": {
        "id": "I1wRveF0ox35"
      },
      "source": [
        "import pandas as pd\n",
        "import csv\n",
        "import seaborn as sns\n",
        "import numpy as np\n",
        "import matplotlib\n",
        "import matplotlib.pyplot as plt\n",
        "from sklearn import datasets\n",
        "iris = datasets.load_iris()\n",
        "df = pd.read_csv('forbesathletesv2.csv', delimiter=\",\")\n",
        "pd.set_option('display.max_rows',100)"
      ],
      "execution_count": null,
      "outputs": []
    },
    {
      "cell_type": "code",
      "metadata": {
        "id": "eL8t0gV7bKKG"
      },
      "source": [
        "from matplotlib import rcParams\n",
        "rcParams['figure.figsize'] = 14, 9"
      ],
      "execution_count": null,
      "outputs": []
    },
    {
      "cell_type": "markdown",
      "metadata": {
        "id": "U-fNNLSXjJ5B"
      },
      "source": [
        "FULL LIST OF DATASET"
      ]
    },
    {
      "cell_type": "code",
      "metadata": {
        "id": "jEocVDMqCVbd"
      },
      "source": [
        "with open('forbesathletesv2.csv','r') as file:\n",
        "    for line in file:        \n",
        "        print('|'.join(line.split(',')),end='')"
      ],
      "execution_count": null,
      "outputs": []
    },
    {
      "cell_type": "code",
      "metadata": {
        "id": "hWrb-_WUpnWF"
      },
      "source": [
        "pd.read_csv('forbesathletesv2.csv', delimiter=\",\")"
      ],
      "execution_count": null,
      "outputs": []
    },
    {
      "cell_type": "code",
      "metadata": {
        "id": "yCHAg64B9frT"
      },
      "source": [
        "df.head(11)"
      ],
      "execution_count": null,
      "outputs": []
    },
    {
      "cell_type": "markdown",
      "metadata": {
        "id": "Wp5uAPGFjVg1"
      },
      "source": [
        "FULL DESCRIPTION OF EARNINGS"
      ]
    },
    {
      "cell_type": "markdown",
      "source": [
        "#Part 1. Descriptions of Earnings\n",
        "###I propose to consider the statistics of Earnings for all time, from 1990 to 2021. \n",
        "###On the data below, you can see the mean, median and standard deviation for all time."
      ],
      "metadata": {
        "id": "9_375f9h0L7W"
      }
    },
    {
      "cell_type": "code",
      "metadata": {
        "id": "TZduTv6mC7wy",
        "colab": {
          "base_uri": "https://localhost:8080/",
          "height": 300
        },
        "outputId": "f4470eb0-0d15-4985-ae22-41699c8ebaa9"
      },
      "source": [
        "df[['Earnings']].describe()\n"
      ],
      "execution_count": null,
      "outputs": [
        {
          "output_type": "execute_result",
          "data": {
            "text/html": [
              "<div>\n",
              "<style scoped>\n",
              "    .dataframe tbody tr th:only-of-type {\n",
              "        vertical-align: middle;\n",
              "    }\n",
              "\n",
              "    .dataframe tbody tr th {\n",
              "        vertical-align: top;\n",
              "    }\n",
              "\n",
              "    .dataframe thead th {\n",
              "        text-align: right;\n",
              "    }\n",
              "</style>\n",
              "<table border=\"1\" class=\"dataframe\">\n",
              "  <thead>\n",
              "    <tr style=\"text-align: right;\">\n",
              "      <th></th>\n",
              "      <th>Earnings</th>\n",
              "    </tr>\n",
              "  </thead>\n",
              "  <tbody>\n",
              "    <tr>\n",
              "      <th>count</th>\n",
              "      <td>1659.000000</td>\n",
              "    </tr>\n",
              "    <tr>\n",
              "      <th>mean</th>\n",
              "      <td>27.523810</td>\n",
              "    </tr>\n",
              "    <tr>\n",
              "      <th>std</th>\n",
              "      <td>20.334179</td>\n",
              "    </tr>\n",
              "    <tr>\n",
              "      <th>min</th>\n",
              "      <td>3.800000</td>\n",
              "    </tr>\n",
              "    <tr>\n",
              "      <th>25%</th>\n",
              "      <td>17.750000</td>\n",
              "    </tr>\n",
              "    <tr>\n",
              "      <th>50%</th>\n",
              "      <td>24.000000</td>\n",
              "    </tr>\n",
              "    <tr>\n",
              "      <th>75%</th>\n",
              "      <td>32.000000</td>\n",
              "    </tr>\n",
              "    <tr>\n",
              "      <th>max</th>\n",
              "      <td>300.000000</td>\n",
              "    </tr>\n",
              "  </tbody>\n",
              "</table>\n",
              "</div>"
            ],
            "text/plain": [
              "          Earnings\n",
              "count  1659.000000\n",
              "mean     27.523810\n",
              "std      20.334179\n",
              "min       3.800000\n",
              "25%      17.750000\n",
              "50%      24.000000\n",
              "75%      32.000000\n",
              "max     300.000000"
            ]
          },
          "metadata": {},
          "execution_count": 15
        }
      ]
    },
    {
      "cell_type": "code",
      "metadata": {
        "id": "iBRhgBoplu89",
        "colab": {
          "base_uri": "https://localhost:8080/"
        },
        "outputId": "129f236b-09b9-45f7-fedf-e8ae14f32f13"
      },
      "source": [
        "df[['Earnings']].median()"
      ],
      "execution_count": null,
      "outputs": [
        {
          "output_type": "execute_result",
          "data": {
            "text/plain": [
              "Earnings    24.0\n",
              "dtype: float64"
            ]
          },
          "metadata": {},
          "execution_count": 16
        }
      ]
    },
    {
      "cell_type": "code",
      "metadata": {
        "id": "LeSoWzQ6mFAZ",
        "colab": {
          "base_uri": "https://localhost:8080/"
        },
        "outputId": "8c73344c-8052-4880-b51e-c444fced974a"
      },
      "source": [
        "df[['Earnings']].std()"
      ],
      "execution_count": null,
      "outputs": [
        {
          "output_type": "execute_result",
          "data": {
            "text/plain": [
              "Earnings    20.334179\n",
              "dtype: float64"
            ]
          },
          "metadata": {},
          "execution_count": 17
        }
      ]
    },
    {
      "cell_type": "markdown",
      "metadata": {
        "id": "k73pWZxHFeGL"
      },
      "source": [
        "STATISTICS\n"
      ]
    },
    {
      "cell_type": "markdown",
      "source": [
        "#Part 2. Statistics\n",
        "###I decided to find in the entire dataset what was the biggest and smallest earnings of athletes for all time. I managed to find out that the largest was 300 million, and the smallest was 3.8 million.\n",
        "###Then I decided to find out what years these payments were.\n",
        "###The biggest earnings were recorded in 2015. It belongs to boxer Floyd Mayweather.\n",
        "###The smallest earnings were recorded twice in 1990.\n",
        "###They belong to golfer Curtis Strange and baseball player Will Clark."
      ],
      "metadata": {
        "id": "iKDxF2-O0gNa"
      }
    },
    {
      "cell_type": "code",
      "metadata": {
        "id": "3-eI_ijaG5V3",
        "colab": {
          "base_uri": "https://localhost:8080/"
        },
        "outputId": "262e3a3e-88d0-4f32-94fa-730c4266bc16"
      },
      "source": [
        "#@title Maximum Earnings\n",
        "df[['Earnings']].max()"
      ],
      "execution_count": null,
      "outputs": [
        {
          "output_type": "execute_result",
          "data": {
            "text/plain": [
              "Earnings    300.0\n",
              "dtype: float64"
            ]
          },
          "metadata": {},
          "execution_count": 18
        }
      ]
    },
    {
      "cell_type": "code",
      "metadata": {
        "id": "M5zdElSAHTBq",
        "colab": {
          "base_uri": "https://localhost:8080/"
        },
        "outputId": "f264c8f6-24e2-423b-e09e-fcfe9ccc8f6f"
      },
      "source": [
        "#@title Minimum Earning\n",
        "df[['Earnings']].min()"
      ],
      "execution_count": null,
      "outputs": [
        {
          "output_type": "execute_result",
          "data": {
            "text/plain": [
              "Earnings    3.8\n",
              "dtype: float64"
            ]
          },
          "metadata": {},
          "execution_count": 19
        }
      ]
    },
    {
      "cell_type": "code",
      "metadata": {
        "id": "JbEC4UCoYA86",
        "colab": {
          "base_uri": "https://localhost:8080/",
          "height": 81
        },
        "outputId": "d2df491e-338d-43af-d20f-e5686eb3df9f"
      },
      "source": [
        "#@title Year of Maximum Earnings\n",
        "df[(df['Earnings'] == 300)]"
      ],
      "execution_count": null,
      "outputs": [
        {
          "output_type": "execute_result",
          "data": {
            "text/html": [
              "<div>\n",
              "<style scoped>\n",
              "    .dataframe tbody tr th:only-of-type {\n",
              "        vertical-align: middle;\n",
              "    }\n",
              "\n",
              "    .dataframe tbody tr th {\n",
              "        vertical-align: top;\n",
              "    }\n",
              "\n",
              "    .dataframe thead th {\n",
              "        text-align: right;\n",
              "    }\n",
              "</style>\n",
              "<table border=\"1\" class=\"dataframe\">\n",
              "  <thead>\n",
              "    <tr style=\"text-align: right;\">\n",
              "      <th></th>\n",
              "      <th>Name</th>\n",
              "      <th>Earnings</th>\n",
              "      <th>Year</th>\n",
              "      <th>Sport</th>\n",
              "    </tr>\n",
              "  </thead>\n",
              "  <tbody>\n",
              "    <tr>\n",
              "      <th>550</th>\n",
              "      <td>Floyd Mayweather</td>\n",
              "      <td>300.0</td>\n",
              "      <td>2015</td>\n",
              "      <td>Boxing</td>\n",
              "    </tr>\n",
              "  </tbody>\n",
              "</table>\n",
              "</div>"
            ],
            "text/plain": [
              "                 Name  Earnings  Year   Sport\n",
              "550  Floyd Mayweather     300.0  2015  Boxing"
            ]
          },
          "metadata": {},
          "execution_count": 20
        }
      ]
    },
    {
      "cell_type": "code",
      "metadata": {
        "id": "wvFs9W5PYGMq",
        "colab": {
          "base_uri": "https://localhost:8080/",
          "height": 112
        },
        "outputId": "d59a5d71-2801-4fbc-cf3c-8597e18e85c5"
      },
      "source": [
        "#@title Year of Minimum Earnings\n",
        "df[(df['Earnings'] == 3.8)]"
      ],
      "execution_count": null,
      "outputs": [
        {
          "output_type": "execute_result",
          "data": {
            "text/html": [
              "<div>\n",
              "<style scoped>\n",
              "    .dataframe tbody tr th:only-of-type {\n",
              "        vertical-align: middle;\n",
              "    }\n",
              "\n",
              "    .dataframe tbody tr th {\n",
              "        vertical-align: top;\n",
              "    }\n",
              "\n",
              "    .dataframe thead th {\n",
              "        text-align: right;\n",
              "    }\n",
              "</style>\n",
              "<table border=\"1\" class=\"dataframe\">\n",
              "  <thead>\n",
              "    <tr style=\"text-align: right;\">\n",
              "      <th></th>\n",
              "      <th>Name</th>\n",
              "      <th>Earnings</th>\n",
              "      <th>Year</th>\n",
              "      <th>Sport</th>\n",
              "    </tr>\n",
              "  </thead>\n",
              "  <tbody>\n",
              "    <tr>\n",
              "      <th>1657</th>\n",
              "      <td>Curtis Strange</td>\n",
              "      <td>3.8</td>\n",
              "      <td>1990</td>\n",
              "      <td>Golf</td>\n",
              "    </tr>\n",
              "    <tr>\n",
              "      <th>1658</th>\n",
              "      <td>Will Clark</td>\n",
              "      <td>3.8</td>\n",
              "      <td>1990</td>\n",
              "      <td>Baseball</td>\n",
              "    </tr>\n",
              "  </tbody>\n",
              "</table>\n",
              "</div>"
            ],
            "text/plain": [
              "                Name  Earnings  Year     Sport\n",
              "1657  Curtis Strange       3.8  1990      Golf\n",
              "1658      Will Clark       3.8  1990  Baseball"
            ]
          },
          "metadata": {},
          "execution_count": 21
        }
      ]
    },
    {
      "cell_type": "markdown",
      "source": [
        "###I decided to consider more detailed statistics for these two years. \n",
        "###With the help of calculations, I managed to find out that the standard deviation in earnings in 2015 was more than 5 times greater than in 1990. \n",
        "###The average earnings in 1990 were 4 times less than in 2021."
      ],
      "metadata": {
        "id": "nybvJuRk1r32"
      }
    },
    {
      "cell_type": "code",
      "metadata": {
        "id": "bWcoTTqVhVLi",
        "colab": {
          "base_uri": "https://localhost:8080/",
          "height": 1000
        },
        "outputId": "095bdf8d-fea9-4698-c653-e7f730927b18"
      },
      "source": [
        "#@title Statistic from 2015 (the highest Earning)\n",
        "df[(df['Year'] == 2015)]"
      ],
      "execution_count": null,
      "outputs": [
        {
          "output_type": "execute_result",
          "data": {
            "text/html": [
              "<div>\n",
              "<style scoped>\n",
              "    .dataframe tbody tr th:only-of-type {\n",
              "        vertical-align: middle;\n",
              "    }\n",
              "\n",
              "    .dataframe tbody tr th {\n",
              "        vertical-align: top;\n",
              "    }\n",
              "\n",
              "    .dataframe thead th {\n",
              "        text-align: right;\n",
              "    }\n",
              "</style>\n",
              "<table border=\"1\" class=\"dataframe\">\n",
              "  <thead>\n",
              "    <tr style=\"text-align: right;\">\n",
              "      <th></th>\n",
              "      <th>Name</th>\n",
              "      <th>Earnings</th>\n",
              "      <th>Year</th>\n",
              "      <th>Sport</th>\n",
              "    </tr>\n",
              "  </thead>\n",
              "  <tbody>\n",
              "    <tr>\n",
              "      <th>550</th>\n",
              "      <td>Floyd Mayweather</td>\n",
              "      <td>300.0</td>\n",
              "      <td>2015</td>\n",
              "      <td>Boxing</td>\n",
              "    </tr>\n",
              "    <tr>\n",
              "      <th>551</th>\n",
              "      <td>Manny Pacquiao</td>\n",
              "      <td>160.0</td>\n",
              "      <td>2015</td>\n",
              "      <td>Boxing</td>\n",
              "    </tr>\n",
              "    <tr>\n",
              "      <th>552</th>\n",
              "      <td>Cristiano Ronaldo</td>\n",
              "      <td>79.6</td>\n",
              "      <td>2015</td>\n",
              "      <td>Soccer</td>\n",
              "    </tr>\n",
              "    <tr>\n",
              "      <th>553</th>\n",
              "      <td>Lionel Messi</td>\n",
              "      <td>73.8</td>\n",
              "      <td>2015</td>\n",
              "      <td>Soccer</td>\n",
              "    </tr>\n",
              "    <tr>\n",
              "      <th>554</th>\n",
              "      <td>Roger Federer</td>\n",
              "      <td>67.0</td>\n",
              "      <td>2015</td>\n",
              "      <td>Tennis</td>\n",
              "    </tr>\n",
              "    <tr>\n",
              "      <th>555</th>\n",
              "      <td>LeBron James</td>\n",
              "      <td>64.8</td>\n",
              "      <td>2015</td>\n",
              "      <td>Basketball</td>\n",
              "    </tr>\n",
              "    <tr>\n",
              "      <th>556</th>\n",
              "      <td>Kevin Durant</td>\n",
              "      <td>54.2</td>\n",
              "      <td>2015</td>\n",
              "      <td>Basketball</td>\n",
              "    </tr>\n",
              "    <tr>\n",
              "      <th>557</th>\n",
              "      <td>Phil Mickelson</td>\n",
              "      <td>50.8</td>\n",
              "      <td>2015</td>\n",
              "      <td>Golf</td>\n",
              "    </tr>\n",
              "    <tr>\n",
              "      <th>558</th>\n",
              "      <td>Tiger Woods</td>\n",
              "      <td>50.6</td>\n",
              "      <td>2015</td>\n",
              "      <td>Golf</td>\n",
              "    </tr>\n",
              "    <tr>\n",
              "      <th>559</th>\n",
              "      <td>Kobe Bryant</td>\n",
              "      <td>49.5</td>\n",
              "      <td>2015</td>\n",
              "      <td>Basketball</td>\n",
              "    </tr>\n",
              "    <tr>\n",
              "      <th>560</th>\n",
              "      <td>Ben Roethlisberger</td>\n",
              "      <td>48.9</td>\n",
              "      <td>2015</td>\n",
              "      <td>Football</td>\n",
              "    </tr>\n",
              "    <tr>\n",
              "      <th>561</th>\n",
              "      <td>Rory McIlroy</td>\n",
              "      <td>48.3</td>\n",
              "      <td>2015</td>\n",
              "      <td>Golf</td>\n",
              "    </tr>\n",
              "    <tr>\n",
              "      <th>562</th>\n",
              "      <td>Novak Djokovic</td>\n",
              "      <td>48.2</td>\n",
              "      <td>2015</td>\n",
              "      <td>Tennis</td>\n",
              "    </tr>\n",
              "    <tr>\n",
              "      <th>563</th>\n",
              "      <td>Zlatan Ibrahimovic</td>\n",
              "      <td>39.1</td>\n",
              "      <td>2015</td>\n",
              "      <td>Soccer</td>\n",
              "    </tr>\n",
              "    <tr>\n",
              "      <th>564</th>\n",
              "      <td>Lewis Hamilton</td>\n",
              "      <td>39.0</td>\n",
              "      <td>2015</td>\n",
              "      <td>Racing</td>\n",
              "    </tr>\n",
              "    <tr>\n",
              "      <th>565</th>\n",
              "      <td>Ndamukong Suh</td>\n",
              "      <td>38.6</td>\n",
              "      <td>2015</td>\n",
              "      <td>Football</td>\n",
              "    </tr>\n",
              "    <tr>\n",
              "      <th>566</th>\n",
              "      <td>Fernando Alonso</td>\n",
              "      <td>35.5</td>\n",
              "      <td>2015</td>\n",
              "      <td>Racing</td>\n",
              "    </tr>\n",
              "    <tr>\n",
              "      <th>567</th>\n",
              "      <td>Gareth Bale</td>\n",
              "      <td>35.0</td>\n",
              "      <td>2015</td>\n",
              "      <td>Soccer</td>\n",
              "    </tr>\n",
              "    <tr>\n",
              "      <th>568</th>\n",
              "      <td>Jon Lester</td>\n",
              "      <td>34.1</td>\n",
              "      <td>2015</td>\n",
              "      <td>Baseball</td>\n",
              "    </tr>\n",
              "    <tr>\n",
              "      <th>569</th>\n",
              "      <td>Derrick Rose</td>\n",
              "      <td>33.9</td>\n",
              "      <td>2015</td>\n",
              "      <td>Basketball</td>\n",
              "    </tr>\n",
              "    <tr>\n",
              "      <th>570</th>\n",
              "      <td>Sebastian Vettel</td>\n",
              "      <td>33.0</td>\n",
              "      <td>2015</td>\n",
              "      <td>Racing</td>\n",
              "    </tr>\n",
              "    <tr>\n",
              "      <th>571</th>\n",
              "      <td>Rafael Nadal</td>\n",
              "      <td>32.5</td>\n",
              "      <td>2015</td>\n",
              "      <td>Tennis</td>\n",
              "    </tr>\n",
              "    <tr>\n",
              "      <th>572</th>\n",
              "      <td>Mahendra Singh Dhoni</td>\n",
              "      <td>31.0</td>\n",
              "      <td>2015</td>\n",
              "      <td>Cricket</td>\n",
              "    </tr>\n",
              "    <tr>\n",
              "      <th>573</th>\n",
              "      <td>Neymar</td>\n",
              "      <td>31.0</td>\n",
              "      <td>2015</td>\n",
              "      <td>Soccer</td>\n",
              "    </tr>\n",
              "    <tr>\n",
              "      <th>574</th>\n",
              "      <td>Carmelo Anthony</td>\n",
              "      <td>30.5</td>\n",
              "      <td>2015</td>\n",
              "      <td>Basketball</td>\n",
              "    </tr>\n",
              "    <tr>\n",
              "      <th>575</th>\n",
              "      <td>Maria Sharapova</td>\n",
              "      <td>29.7</td>\n",
              "      <td>2015</td>\n",
              "      <td>Tennis</td>\n",
              "    </tr>\n",
              "    <tr>\n",
              "      <th>576</th>\n",
              "      <td>Carson Palmer</td>\n",
              "      <td>29.0</td>\n",
              "      <td>2015</td>\n",
              "      <td>Football</td>\n",
              "    </tr>\n",
              "    <tr>\n",
              "      <th>577</th>\n",
              "      <td>James Rodriguez</td>\n",
              "      <td>29.0</td>\n",
              "      <td>2015</td>\n",
              "      <td>Soccer</td>\n",
              "    </tr>\n",
              "    <tr>\n",
              "      <th>578</th>\n",
              "      <td>JJ Watt</td>\n",
              "      <td>27.9</td>\n",
              "      <td>2015</td>\n",
              "      <td>Football</td>\n",
              "    </tr>\n",
              "    <tr>\n",
              "      <th>579</th>\n",
              "      <td>Robinson Cano</td>\n",
              "      <td>27.6</td>\n",
              "      <td>2015</td>\n",
              "      <td>Baseball</td>\n",
              "    </tr>\n",
              "    <tr>\n",
              "      <th>580</th>\n",
              "      <td>Dwyane Wade</td>\n",
              "      <td>27.2</td>\n",
              "      <td>2015</td>\n",
              "      <td>Basketball</td>\n",
              "    </tr>\n",
              "    <tr>\n",
              "      <th>581</th>\n",
              "      <td>Peyton Manning</td>\n",
              "      <td>27.0</td>\n",
              "      <td>2015</td>\n",
              "      <td>Football</td>\n",
              "    </tr>\n",
              "    <tr>\n",
              "      <th>582</th>\n",
              "      <td>Kimi Raikkonen</td>\n",
              "      <td>27.0</td>\n",
              "      <td>2015</td>\n",
              "      <td>Racing</td>\n",
              "    </tr>\n",
              "    <tr>\n",
              "      <th>583</th>\n",
              "      <td>Clayton Kershaw</td>\n",
              "      <td>26.9</td>\n",
              "      <td>2015</td>\n",
              "      <td>Baseball</td>\n",
              "    </tr>\n",
              "    <tr>\n",
              "      <th>584</th>\n",
              "      <td>Wayne Rooney</td>\n",
              "      <td>26.9</td>\n",
              "      <td>2015</td>\n",
              "      <td>Soccer</td>\n",
              "    </tr>\n",
              "    <tr>\n",
              "      <th>585</th>\n",
              "      <td>Gerald McCoy</td>\n",
              "      <td>26.7</td>\n",
              "      <td>2015</td>\n",
              "      <td>Football</td>\n",
              "    </tr>\n",
              "    <tr>\n",
              "      <th>586</th>\n",
              "      <td>Chris Paul</td>\n",
              "      <td>26.1</td>\n",
              "      <td>2015</td>\n",
              "      <td>Basketball</td>\n",
              "    </tr>\n",
              "    <tr>\n",
              "      <th>587</th>\n",
              "      <td>Radamel Falcao</td>\n",
              "      <td>25.9</td>\n",
              "      <td>2015</td>\n",
              "      <td>Soccer</td>\n",
              "    </tr>\n",
              "    <tr>\n",
              "      <th>588</th>\n",
              "      <td>Albert Pujols</td>\n",
              "      <td>25.9</td>\n",
              "      <td>2015</td>\n",
              "      <td>Baseball</td>\n",
              "    </tr>\n",
              "    <tr>\n",
              "      <th>589</th>\n",
              "      <td>Ryan Howard</td>\n",
              "      <td>25.6</td>\n",
              "      <td>2015</td>\n",
              "      <td>Baseball</td>\n",
              "    </tr>\n",
              "    <tr>\n",
              "      <th>590</th>\n",
              "      <td>Dwight Howard</td>\n",
              "      <td>25.5</td>\n",
              "      <td>2015</td>\n",
              "      <td>Basketball</td>\n",
              "    </tr>\n",
              "    <tr>\n",
              "      <th>591</th>\n",
              "      <td>Cliff Lee</td>\n",
              "      <td>25.2</td>\n",
              "      <td>2015</td>\n",
              "      <td>Baseball</td>\n",
              "    </tr>\n",
              "    <tr>\n",
              "      <th>592</th>\n",
              "      <td>Miguel Cabrera</td>\n",
              "      <td>25.1</td>\n",
              "      <td>2015</td>\n",
              "      <td>Baseball</td>\n",
              "    </tr>\n",
              "    <tr>\n",
              "      <th>593</th>\n",
              "      <td>Amare Stoudemire</td>\n",
              "      <td>25.0</td>\n",
              "      <td>2015</td>\n",
              "      <td>Basketball</td>\n",
              "    </tr>\n",
              "    <tr>\n",
              "      <th>594</th>\n",
              "      <td>Sergio Aguero</td>\n",
              "      <td>24.9</td>\n",
              "      <td>2015</td>\n",
              "      <td>Soccer</td>\n",
              "    </tr>\n",
              "    <tr>\n",
              "      <th>595</th>\n",
              "      <td>Blake Griffin</td>\n",
              "      <td>24.7</td>\n",
              "      <td>2015</td>\n",
              "      <td>Basketball</td>\n",
              "    </tr>\n",
              "    <tr>\n",
              "      <th>596</th>\n",
              "      <td>Serena Williams</td>\n",
              "      <td>24.6</td>\n",
              "      <td>2015</td>\n",
              "      <td>Tennis</td>\n",
              "    </tr>\n",
              "    <tr>\n",
              "      <th>597</th>\n",
              "      <td>Prince Fielder</td>\n",
              "      <td>24.3</td>\n",
              "      <td>2015</td>\n",
              "      <td>Baseball</td>\n",
              "    </tr>\n",
              "    <tr>\n",
              "      <th>598</th>\n",
              "      <td>Joe Johnson</td>\n",
              "      <td>24.2</td>\n",
              "      <td>2015</td>\n",
              "      <td>Basketball</td>\n",
              "    </tr>\n",
              "    <tr>\n",
              "      <th>599</th>\n",
              "      <td>Joe Mauer</td>\n",
              "      <td>24.0</td>\n",
              "      <td>2015</td>\n",
              "      <td>Baseball</td>\n",
              "    </tr>\n",
              "    <tr>\n",
              "      <th>600</th>\n",
              "      <td>CC Sabathia</td>\n",
              "      <td>23.9</td>\n",
              "      <td>2015</td>\n",
              "      <td>Baseball</td>\n",
              "    </tr>\n",
              "    <tr>\n",
              "      <th>601</th>\n",
              "      <td>Chris Bosh</td>\n",
              "      <td>23.8</td>\n",
              "      <td>2015</td>\n",
              "      <td>Basketball</td>\n",
              "    </tr>\n",
              "    <tr>\n",
              "      <th>602</th>\n",
              "      <td>Zack Greinke</td>\n",
              "      <td>23.7</td>\n",
              "      <td>2015</td>\n",
              "      <td>Baseball</td>\n",
              "    </tr>\n",
              "    <tr>\n",
              "      <th>603</th>\n",
              "      <td>Eli Manning</td>\n",
              "      <td>23.7</td>\n",
              "      <td>2015</td>\n",
              "      <td>Football</td>\n",
              "    </tr>\n",
              "    <tr>\n",
              "      <th>604</th>\n",
              "      <td>Dale Earnhardt Jr</td>\n",
              "      <td>23.6</td>\n",
              "      <td>2015</td>\n",
              "      <td>Racing</td>\n",
              "    </tr>\n",
              "    <tr>\n",
              "      <th>605</th>\n",
              "      <td>Justin Verlander</td>\n",
              "      <td>23.4</td>\n",
              "      <td>2015</td>\n",
              "      <td>Baseball</td>\n",
              "    </tr>\n",
              "    <tr>\n",
              "      <th>606</th>\n",
              "      <td>Andy Dalton</td>\n",
              "      <td>23.3</td>\n",
              "      <td>2015</td>\n",
              "      <td>Football</td>\n",
              "    </tr>\n",
              "    <tr>\n",
              "      <th>607</th>\n",
              "      <td>Masahiro Tanaka</td>\n",
              "      <td>23.0</td>\n",
              "      <td>2015</td>\n",
              "      <td>Baseball</td>\n",
              "    </tr>\n",
              "    <tr>\n",
              "      <th>608</th>\n",
              "      <td>Mark Teixeira</td>\n",
              "      <td>23.0</td>\n",
              "      <td>2015</td>\n",
              "      <td>Baseball</td>\n",
              "    </tr>\n",
              "    <tr>\n",
              "      <th>609</th>\n",
              "      <td>Felix Hernandez</td>\n",
              "      <td>22.9</td>\n",
              "      <td>2015</td>\n",
              "      <td>Baseball</td>\n",
              "    </tr>\n",
              "    <tr>\n",
              "      <th>610</th>\n",
              "      <td>Cole Hamels</td>\n",
              "      <td>22.7</td>\n",
              "      <td>2015</td>\n",
              "      <td>Baseball</td>\n",
              "    </tr>\n",
              "    <tr>\n",
              "      <th>611</th>\n",
              "      <td>Jimmie Johnson</td>\n",
              "      <td>22.7</td>\n",
              "      <td>2015</td>\n",
              "      <td>Racing</td>\n",
              "    </tr>\n",
              "    <tr>\n",
              "      <th>612</th>\n",
              "      <td>Wladimir Klitschko</td>\n",
              "      <td>22.5</td>\n",
              "      <td>2015</td>\n",
              "      <td>Boxing</td>\n",
              "    </tr>\n",
              "    <tr>\n",
              "      <th>613</th>\n",
              "      <td>Andy Murray</td>\n",
              "      <td>22.3</td>\n",
              "      <td>2015</td>\n",
              "      <td>Tennis</td>\n",
              "    </tr>\n",
              "    <tr>\n",
              "      <th>614</th>\n",
              "      <td>Matt Kemp</td>\n",
              "      <td>22.2</td>\n",
              "      <td>2015</td>\n",
              "      <td>Baseball</td>\n",
              "    </tr>\n",
              "    <tr>\n",
              "      <th>615</th>\n",
              "      <td>LeSean McCoy</td>\n",
              "      <td>22.1</td>\n",
              "      <td>2015</td>\n",
              "      <td>Football</td>\n",
              "    </tr>\n",
              "    <tr>\n",
              "      <th>616</th>\n",
              "      <td>Drew Brees</td>\n",
              "      <td>22.0</td>\n",
              "      <td>2015</td>\n",
              "      <td>Football</td>\n",
              "    </tr>\n",
              "    <tr>\n",
              "      <th>617</th>\n",
              "      <td>Tony Romo</td>\n",
              "      <td>22.0</td>\n",
              "      <td>2015</td>\n",
              "      <td>Football</td>\n",
              "    </tr>\n",
              "    <tr>\n",
              "      <th>618</th>\n",
              "      <td>Adrian Gonzalez</td>\n",
              "      <td>21.5</td>\n",
              "      <td>2015</td>\n",
              "      <td>Baseball</td>\n",
              "    </tr>\n",
              "    <tr>\n",
              "      <th>619</th>\n",
              "      <td>Jacoby Ellsbury</td>\n",
              "      <td>21.4</td>\n",
              "      <td>2015</td>\n",
              "      <td>Baseball</td>\n",
              "    </tr>\n",
              "    <tr>\n",
              "      <th>620</th>\n",
              "      <td>Tyron Smith</td>\n",
              "      <td>21.4</td>\n",
              "      <td>2015</td>\n",
              "      <td>Football</td>\n",
              "    </tr>\n",
              "    <tr>\n",
              "      <th>621</th>\n",
              "      <td>Deron Williams</td>\n",
              "      <td>21.3</td>\n",
              "      <td>2015</td>\n",
              "      <td>Basketball</td>\n",
              "    </tr>\n",
              "    <tr>\n",
              "      <th>622</th>\n",
              "      <td>Usain Bolt</td>\n",
              "      <td>21.0</td>\n",
              "      <td>2015</td>\n",
              "      <td>Track</td>\n",
              "    </tr>\n",
              "    <tr>\n",
              "      <th>623</th>\n",
              "      <td>Luis Suarez</td>\n",
              "      <td>21.0</td>\n",
              "      <td>2015</td>\n",
              "      <td>Soccer</td>\n",
              "    </tr>\n",
              "    <tr>\n",
              "      <th>624</th>\n",
              "      <td>Matt Cain</td>\n",
              "      <td>20.8</td>\n",
              "      <td>2015</td>\n",
              "      <td>Baseball</td>\n",
              "    </tr>\n",
              "    <tr>\n",
              "      <th>625</th>\n",
              "      <td>David Wright</td>\n",
              "      <td>20.8</td>\n",
              "      <td>2015</td>\n",
              "      <td>Baseball</td>\n",
              "    </tr>\n",
              "    <tr>\n",
              "      <th>626</th>\n",
              "      <td>Carl Crawford</td>\n",
              "      <td>20.7</td>\n",
              "      <td>2015</td>\n",
              "      <td>Baseball</td>\n",
              "    </tr>\n",
              "    <tr>\n",
              "      <th>627</th>\n",
              "      <td>Jayson Werth</td>\n",
              "      <td>20.6</td>\n",
              "      <td>2015</td>\n",
              "      <td>Baseball</td>\n",
              "    </tr>\n",
              "    <tr>\n",
              "      <th>628</th>\n",
              "      <td>Cesc Fabregas</td>\n",
              "      <td>20.3</td>\n",
              "      <td>2015</td>\n",
              "      <td>Soccer</td>\n",
              "    </tr>\n",
              "    <tr>\n",
              "      <th>629</th>\n",
              "      <td>Hanley Ramirez</td>\n",
              "      <td>20.3</td>\n",
              "      <td>2015</td>\n",
              "      <td>Baseball</td>\n",
              "    </tr>\n",
              "    <tr>\n",
              "      <th>630</th>\n",
              "      <td>Russell Westbrook</td>\n",
              "      <td>20.3</td>\n",
              "      <td>2015</td>\n",
              "      <td>Basketball</td>\n",
              "    </tr>\n",
              "    <tr>\n",
              "      <th>631</th>\n",
              "      <td>Justin Rose</td>\n",
              "      <td>20.2</td>\n",
              "      <td>2015</td>\n",
              "      <td>Golf</td>\n",
              "    </tr>\n",
              "    <tr>\n",
              "      <th>632</th>\n",
              "      <td>Yaya Toure</td>\n",
              "      <td>20.0</td>\n",
              "      <td>2015</td>\n",
              "      <td>Soccer</td>\n",
              "    </tr>\n",
              "    <tr>\n",
              "      <th>633</th>\n",
              "      <td>Rudy Gay</td>\n",
              "      <td>19.9</td>\n",
              "      <td>2015</td>\n",
              "      <td>Basketball</td>\n",
              "    </tr>\n",
              "    <tr>\n",
              "      <th>634</th>\n",
              "      <td>Jordan Spieth</td>\n",
              "      <td>19.8</td>\n",
              "      <td>2015</td>\n",
              "      <td>Golf</td>\n",
              "    </tr>\n",
              "    <tr>\n",
              "      <th>635</th>\n",
              "      <td>Adam Wainwright</td>\n",
              "      <td>19.8</td>\n",
              "      <td>2015</td>\n",
              "      <td>Baseball</td>\n",
              "    </tr>\n",
              "    <tr>\n",
              "      <th>636</th>\n",
              "      <td>Frank Lampard</td>\n",
              "      <td>19.7</td>\n",
              "      <td>2015</td>\n",
              "      <td>Soccer</td>\n",
              "    </tr>\n",
              "    <tr>\n",
              "      <th>637</th>\n",
              "      <td>Kevin Love</td>\n",
              "      <td>19.7</td>\n",
              "      <td>2015</td>\n",
              "      <td>Basketball</td>\n",
              "    </tr>\n",
              "    <tr>\n",
              "      <th>638</th>\n",
              "      <td>David Ortiz</td>\n",
              "      <td>19.7</td>\n",
              "      <td>2015</td>\n",
              "      <td>Baseball</td>\n",
              "    </tr>\n",
              "    <tr>\n",
              "      <th>639</th>\n",
              "      <td>Eden Hazard</td>\n",
              "      <td>19.6</td>\n",
              "      <td>2015</td>\n",
              "      <td>Soccer</td>\n",
              "    </tr>\n",
              "    <tr>\n",
              "      <th>640</th>\n",
              "      <td>Alex Smith</td>\n",
              "      <td>19.6</td>\n",
              "      <td>2015</td>\n",
              "      <td>Football</td>\n",
              "    </tr>\n",
              "    <tr>\n",
              "      <th>641</th>\n",
              "      <td>Kei Nishikori</td>\n",
              "      <td>19.5</td>\n",
              "      <td>2015</td>\n",
              "      <td>Tennis</td>\n",
              "    </tr>\n",
              "    <tr>\n",
              "      <th>642</th>\n",
              "      <td>Devin McCourty</td>\n",
              "      <td>19.3</td>\n",
              "      <td>2015</td>\n",
              "      <td>Football</td>\n",
              "    </tr>\n",
              "    <tr>\n",
              "      <th>643</th>\n",
              "      <td>Mesut Ozil</td>\n",
              "      <td>19.3</td>\n",
              "      <td>2015</td>\n",
              "      <td>Soccer</td>\n",
              "    </tr>\n",
              "    <tr>\n",
              "      <th>644</th>\n",
              "      <td>Aaron Rodgers</td>\n",
              "      <td>19.1</td>\n",
              "      <td>2015</td>\n",
              "      <td>Football</td>\n",
              "    </tr>\n",
              "    <tr>\n",
              "      <th>645</th>\n",
              "      <td>Billy Horschel</td>\n",
              "      <td>19.0</td>\n",
              "      <td>2015</td>\n",
              "      <td>Golf</td>\n",
              "    </tr>\n",
              "    <tr>\n",
              "      <th>646</th>\n",
              "      <td>Jeremy Lin</td>\n",
              "      <td>18.9</td>\n",
              "      <td>2015</td>\n",
              "      <td>Basketball</td>\n",
              "    </tr>\n",
              "    <tr>\n",
              "      <th>647</th>\n",
              "      <td>Maurkice Pouncey</td>\n",
              "      <td>18.9</td>\n",
              "      <td>2015</td>\n",
              "      <td>Football</td>\n",
              "    </tr>\n",
              "    <tr>\n",
              "      <th>648</th>\n",
              "      <td>Max Scherzer</td>\n",
              "      <td>18.9</td>\n",
              "      <td>2015</td>\n",
              "      <td>Baseball</td>\n",
              "    </tr>\n",
              "    <tr>\n",
              "      <th>649</th>\n",
              "      <td>James Harden</td>\n",
              "      <td>18.8</td>\n",
              "      <td>2015</td>\n",
              "      <td>Basketball</td>\n",
              "    </tr>\n",
              "  </tbody>\n",
              "</table>\n",
              "</div>"
            ],
            "text/plain": [
              "                     Name  Earnings  Year       Sport\n",
              "550      Floyd Mayweather     300.0  2015      Boxing\n",
              "551        Manny Pacquiao     160.0  2015      Boxing\n",
              "552     Cristiano Ronaldo      79.6  2015      Soccer\n",
              "553          Lionel Messi      73.8  2015      Soccer\n",
              "554         Roger Federer      67.0  2015      Tennis\n",
              "555          LeBron James      64.8  2015  Basketball\n",
              "556          Kevin Durant      54.2  2015  Basketball\n",
              "557        Phil Mickelson      50.8  2015        Golf\n",
              "558           Tiger Woods      50.6  2015        Golf\n",
              "559           Kobe Bryant      49.5  2015  Basketball\n",
              "560    Ben Roethlisberger      48.9  2015    Football\n",
              "561          Rory McIlroy      48.3  2015        Golf\n",
              "562        Novak Djokovic      48.2  2015      Tennis\n",
              "563    Zlatan Ibrahimovic      39.1  2015      Soccer\n",
              "564        Lewis Hamilton      39.0  2015      Racing\n",
              "565         Ndamukong Suh      38.6  2015    Football\n",
              "566       Fernando Alonso      35.5  2015      Racing\n",
              "567           Gareth Bale      35.0  2015      Soccer\n",
              "568            Jon Lester      34.1  2015    Baseball\n",
              "569          Derrick Rose      33.9  2015  Basketball\n",
              "570      Sebastian Vettel      33.0  2015      Racing\n",
              "571          Rafael Nadal      32.5  2015      Tennis\n",
              "572  Mahendra Singh Dhoni      31.0  2015     Cricket\n",
              "573                Neymar      31.0  2015      Soccer\n",
              "574       Carmelo Anthony      30.5  2015  Basketball\n",
              "575       Maria Sharapova      29.7  2015      Tennis\n",
              "576         Carson Palmer      29.0  2015    Football\n",
              "577       James Rodriguez      29.0  2015      Soccer\n",
              "578               JJ Watt      27.9  2015    Football\n",
              "579         Robinson Cano      27.6  2015    Baseball\n",
              "580           Dwyane Wade      27.2  2015  Basketball\n",
              "581        Peyton Manning      27.0  2015    Football\n",
              "582        Kimi Raikkonen      27.0  2015      Racing\n",
              "583       Clayton Kershaw      26.9  2015    Baseball\n",
              "584          Wayne Rooney      26.9  2015      Soccer\n",
              "585          Gerald McCoy      26.7  2015    Football\n",
              "586            Chris Paul      26.1  2015  Basketball\n",
              "587        Radamel Falcao      25.9  2015      Soccer\n",
              "588         Albert Pujols      25.9  2015    Baseball\n",
              "589           Ryan Howard      25.6  2015    Baseball\n",
              "590         Dwight Howard      25.5  2015  Basketball\n",
              "591             Cliff Lee      25.2  2015    Baseball\n",
              "592        Miguel Cabrera      25.1  2015    Baseball\n",
              "593      Amare Stoudemire      25.0  2015  Basketball\n",
              "594         Sergio Aguero      24.9  2015      Soccer\n",
              "595         Blake Griffin      24.7  2015  Basketball\n",
              "596       Serena Williams      24.6  2015      Tennis\n",
              "597        Prince Fielder      24.3  2015    Baseball\n",
              "598           Joe Johnson      24.2  2015  Basketball\n",
              "599             Joe Mauer      24.0  2015    Baseball\n",
              "600           CC Sabathia      23.9  2015    Baseball\n",
              "601            Chris Bosh      23.8  2015  Basketball\n",
              "602          Zack Greinke      23.7  2015    Baseball\n",
              "603           Eli Manning      23.7  2015    Football\n",
              "604     Dale Earnhardt Jr      23.6  2015      Racing\n",
              "605      Justin Verlander      23.4  2015    Baseball\n",
              "606           Andy Dalton      23.3  2015    Football\n",
              "607       Masahiro Tanaka      23.0  2015    Baseball\n",
              "608         Mark Teixeira      23.0  2015    Baseball\n",
              "609       Felix Hernandez      22.9  2015    Baseball\n",
              "610           Cole Hamels      22.7  2015    Baseball\n",
              "611        Jimmie Johnson      22.7  2015      Racing\n",
              "612    Wladimir Klitschko      22.5  2015      Boxing\n",
              "613           Andy Murray      22.3  2015      Tennis\n",
              "614             Matt Kemp      22.2  2015    Baseball\n",
              "615          LeSean McCoy      22.1  2015    Football\n",
              "616            Drew Brees      22.0  2015    Football\n",
              "617             Tony Romo      22.0  2015    Football\n",
              "618       Adrian Gonzalez      21.5  2015    Baseball\n",
              "619       Jacoby Ellsbury      21.4  2015    Baseball\n",
              "620           Tyron Smith      21.4  2015    Football\n",
              "621        Deron Williams      21.3  2015  Basketball\n",
              "622            Usain Bolt      21.0  2015       Track\n",
              "623           Luis Suarez      21.0  2015      Soccer\n",
              "624             Matt Cain      20.8  2015    Baseball\n",
              "625          David Wright      20.8  2015    Baseball\n",
              "626         Carl Crawford      20.7  2015    Baseball\n",
              "627          Jayson Werth      20.6  2015    Baseball\n",
              "628         Cesc Fabregas      20.3  2015      Soccer\n",
              "629        Hanley Ramirez      20.3  2015    Baseball\n",
              "630     Russell Westbrook      20.3  2015  Basketball\n",
              "631           Justin Rose      20.2  2015        Golf\n",
              "632            Yaya Toure      20.0  2015      Soccer\n",
              "633              Rudy Gay      19.9  2015  Basketball\n",
              "634         Jordan Spieth      19.8  2015        Golf\n",
              "635       Adam Wainwright      19.8  2015    Baseball\n",
              "636         Frank Lampard      19.7  2015      Soccer\n",
              "637            Kevin Love      19.7  2015  Basketball\n",
              "638           David Ortiz      19.7  2015    Baseball\n",
              "639           Eden Hazard      19.6  2015      Soccer\n",
              "640            Alex Smith      19.6  2015    Football\n",
              "641         Kei Nishikori      19.5  2015      Tennis\n",
              "642        Devin McCourty      19.3  2015    Football\n",
              "643            Mesut Ozil      19.3  2015      Soccer\n",
              "644         Aaron Rodgers      19.1  2015    Football\n",
              "645        Billy Horschel      19.0  2015        Golf\n",
              "646            Jeremy Lin      18.9  2015  Basketball\n",
              "647      Maurkice Pouncey      18.9  2015    Football\n",
              "648          Max Scherzer      18.9  2015    Baseball\n",
              "649          James Harden      18.8  2015  Basketball"
            ]
          },
          "metadata": {},
          "execution_count": 22
        }
      ]
    },
    {
      "cell_type": "code",
      "metadata": {
        "id": "oXPa-VMwFkRP",
        "colab": {
          "base_uri": "https://localhost:8080/"
        },
        "outputId": "aa0bff82-9490-45ae-df5a-04c22a25047f"
      },
      "source": [
        "#@title Median 2015\n",
        "one_year = df[(df['Year'] == 2015)]\n",
        "one_year[['Earnings']].median()"
      ],
      "execution_count": null,
      "outputs": [
        {
          "output_type": "execute_result",
          "data": {
            "text/plain": [
              "Earnings    23.95\n",
              "dtype: float64"
            ]
          },
          "metadata": {},
          "execution_count": 23
        }
      ]
    },
    {
      "cell_type": "code",
      "metadata": {
        "id": "kAEtVLLIF777",
        "colab": {
          "base_uri": "https://localhost:8080/"
        },
        "outputId": "c79307a6-204f-48e7-8638-ac77dcc6ceff"
      },
      "source": [
        "#@title Mean 2015\n",
        "one_year = df[(df['Year'] == 2015)]\n",
        "one_year[['Earnings']].mean()"
      ],
      "execution_count": null,
      "outputs": [
        {
          "output_type": "execute_result",
          "data": {
            "text/plain": [
              "Earnings    32.187\n",
              "dtype: float64"
            ]
          },
          "metadata": {},
          "execution_count": 24
        }
      ]
    },
    {
      "cell_type": "code",
      "metadata": {
        "id": "3gK6km2uGC9o",
        "colab": {
          "base_uri": "https://localhost:8080/"
        },
        "outputId": "4149ec30-590f-459b-ddc8-79b3fb1a5bcc"
      },
      "source": [
        "#@title Standart deviation 2015\n",
        "one_year = df[(df['Year'] == 2015)]\n",
        "one_year[['Earnings']].std()"
      ],
      "execution_count": null,
      "outputs": [
        {
          "output_type": "execute_result",
          "data": {
            "text/plain": [
              "Earnings    32.409706\n",
              "dtype: float64"
            ]
          },
          "metadata": {},
          "execution_count": 25
        }
      ]
    },
    {
      "cell_type": "code",
      "metadata": {
        "id": "SfYZozpLcr_E",
        "colab": {
          "base_uri": "https://localhost:8080/",
          "height": 990
        },
        "outputId": "e87441a1-4e20-4c02-e6f3-d5d8a2bd46ca"
      },
      "source": [
        "#@title Statistic from 1990 (the least Earning)\n",
        "df[(df['Year'] == 1990)]"
      ],
      "execution_count": null,
      "outputs": [
        {
          "output_type": "execute_result",
          "data": {
            "text/html": [
              "<div>\n",
              "<style scoped>\n",
              "    .dataframe tbody tr th:only-of-type {\n",
              "        vertical-align: middle;\n",
              "    }\n",
              "\n",
              "    .dataframe tbody tr th {\n",
              "        vertical-align: top;\n",
              "    }\n",
              "\n",
              "    .dataframe thead th {\n",
              "        text-align: right;\n",
              "    }\n",
              "</style>\n",
              "<table border=\"1\" class=\"dataframe\">\n",
              "  <thead>\n",
              "    <tr style=\"text-align: right;\">\n",
              "      <th></th>\n",
              "      <th>Name</th>\n",
              "      <th>Earnings</th>\n",
              "      <th>Year</th>\n",
              "      <th>Sport</th>\n",
              "    </tr>\n",
              "  </thead>\n",
              "  <tbody>\n",
              "    <tr>\n",
              "      <th>1629</th>\n",
              "      <td>Mike Tyson</td>\n",
              "      <td>28.6</td>\n",
              "      <td>1990</td>\n",
              "      <td>Boxing</td>\n",
              "    </tr>\n",
              "    <tr>\n",
              "      <th>1630</th>\n",
              "      <td>Buster Douglas</td>\n",
              "      <td>26.0</td>\n",
              "      <td>1990</td>\n",
              "      <td>Boxing</td>\n",
              "    </tr>\n",
              "    <tr>\n",
              "      <th>1631</th>\n",
              "      <td>Sugar Ray Leonard</td>\n",
              "      <td>13.0</td>\n",
              "      <td>1990</td>\n",
              "      <td>Boxing</td>\n",
              "    </tr>\n",
              "    <tr>\n",
              "      <th>1632</th>\n",
              "      <td>Ayrton Senna</td>\n",
              "      <td>10.0</td>\n",
              "      <td>1990</td>\n",
              "      <td>Racing</td>\n",
              "    </tr>\n",
              "    <tr>\n",
              "      <th>1633</th>\n",
              "      <td>Alain Prost</td>\n",
              "      <td>9.0</td>\n",
              "      <td>1990</td>\n",
              "      <td>Racing</td>\n",
              "    </tr>\n",
              "    <tr>\n",
              "      <th>1634</th>\n",
              "      <td>Jack Nicklaus</td>\n",
              "      <td>8.6</td>\n",
              "      <td>1990</td>\n",
              "      <td>Golf</td>\n",
              "    </tr>\n",
              "    <tr>\n",
              "      <th>1635</th>\n",
              "      <td>Greg Norman</td>\n",
              "      <td>8.5</td>\n",
              "      <td>1990</td>\n",
              "      <td>Golf</td>\n",
              "    </tr>\n",
              "    <tr>\n",
              "      <th>1636</th>\n",
              "      <td>Michael Jordan</td>\n",
              "      <td>8.5</td>\n",
              "      <td>1990</td>\n",
              "      <td>Basketball</td>\n",
              "    </tr>\n",
              "    <tr>\n",
              "      <th>1637</th>\n",
              "      <td>Arnold Palmer</td>\n",
              "      <td>8.1</td>\n",
              "      <td>1990</td>\n",
              "      <td>Golf</td>\n",
              "    </tr>\n",
              "    <tr>\n",
              "      <th>1638</th>\n",
              "      <td>Evander Holyfield</td>\n",
              "      <td>8.1</td>\n",
              "      <td>1990</td>\n",
              "      <td>Boxing</td>\n",
              "    </tr>\n",
              "    <tr>\n",
              "      <th>1639</th>\n",
              "      <td>Boris Becker</td>\n",
              "      <td>7.2</td>\n",
              "      <td>1990</td>\n",
              "      <td>Tennis</td>\n",
              "    </tr>\n",
              "    <tr>\n",
              "      <th>1640</th>\n",
              "      <td>Nigel Mansell</td>\n",
              "      <td>7.0</td>\n",
              "      <td>1990</td>\n",
              "      <td>Racing</td>\n",
              "    </tr>\n",
              "    <tr>\n",
              "      <th>1641</th>\n",
              "      <td>Steffi Graf</td>\n",
              "      <td>6.1</td>\n",
              "      <td>1990</td>\n",
              "      <td>Tennis</td>\n",
              "    </tr>\n",
              "    <tr>\n",
              "      <th>1642</th>\n",
              "      <td>Jose Canseco</td>\n",
              "      <td>6.0</td>\n",
              "      <td>1990</td>\n",
              "      <td>Baseball</td>\n",
              "    </tr>\n",
              "    <tr>\n",
              "      <th>1643</th>\n",
              "      <td>Wayne Gretzky</td>\n",
              "      <td>6.0</td>\n",
              "      <td>1990</td>\n",
              "      <td>Hockey</td>\n",
              "    </tr>\n",
              "    <tr>\n",
              "      <th>1644</th>\n",
              "      <td>Andre Agassi</td>\n",
              "      <td>5.5</td>\n",
              "      <td>1990</td>\n",
              "      <td>Tennis</td>\n",
              "    </tr>\n",
              "    <tr>\n",
              "      <th>1645</th>\n",
              "      <td>Stefan Edberg</td>\n",
              "      <td>5.5</td>\n",
              "      <td>1990</td>\n",
              "      <td>Tennis</td>\n",
              "    </tr>\n",
              "    <tr>\n",
              "      <th>1646</th>\n",
              "      <td>Ivan Lendl</td>\n",
              "      <td>5.3</td>\n",
              "      <td>1990</td>\n",
              "      <td>Tennis</td>\n",
              "    </tr>\n",
              "    <tr>\n",
              "      <th>1647</th>\n",
              "      <td>Diego Maradona</td>\n",
              "      <td>5.0</td>\n",
              "      <td>1990</td>\n",
              "      <td>Soccer</td>\n",
              "    </tr>\n",
              "    <tr>\n",
              "      <th>1648</th>\n",
              "      <td>Don Mattingly</td>\n",
              "      <td>4.8</td>\n",
              "      <td>1990</td>\n",
              "      <td>Baseball</td>\n",
              "    </tr>\n",
              "    <tr>\n",
              "      <th>1649</th>\n",
              "      <td>Bo Jackson</td>\n",
              "      <td>4.5</td>\n",
              "      <td>1990</td>\n",
              "      <td>Baseball</td>\n",
              "    </tr>\n",
              "    <tr>\n",
              "      <th>1650</th>\n",
              "      <td>Gabriela Sabatini</td>\n",
              "      <td>4.5</td>\n",
              "      <td>1990</td>\n",
              "      <td>Tennis</td>\n",
              "    </tr>\n",
              "    <tr>\n",
              "      <th>1651</th>\n",
              "      <td>Magic Johnson</td>\n",
              "      <td>4.5</td>\n",
              "      <td>1990</td>\n",
              "      <td>Basketball</td>\n",
              "    </tr>\n",
              "    <tr>\n",
              "      <th>1652</th>\n",
              "      <td>Robin Yount</td>\n",
              "      <td>4.5</td>\n",
              "      <td>1990</td>\n",
              "      <td>Baseball</td>\n",
              "    </tr>\n",
              "    <tr>\n",
              "      <th>1653</th>\n",
              "      <td>Joe Montana</td>\n",
              "      <td>4.4</td>\n",
              "      <td>1990</td>\n",
              "      <td>Football</td>\n",
              "    </tr>\n",
              "    <tr>\n",
              "      <th>1654</th>\n",
              "      <td>Patrick Ewing</td>\n",
              "      <td>4.2</td>\n",
              "      <td>1990</td>\n",
              "      <td>Basketball</td>\n",
              "    </tr>\n",
              "    <tr>\n",
              "      <th>1655</th>\n",
              "      <td>Greg LeMond</td>\n",
              "      <td>4.2</td>\n",
              "      <td>1990</td>\n",
              "      <td>Cycling</td>\n",
              "    </tr>\n",
              "    <tr>\n",
              "      <th>1656</th>\n",
              "      <td>Gerhard Berger</td>\n",
              "      <td>4.0</td>\n",
              "      <td>1990</td>\n",
              "      <td>Racing</td>\n",
              "    </tr>\n",
              "    <tr>\n",
              "      <th>1657</th>\n",
              "      <td>Curtis Strange</td>\n",
              "      <td>3.8</td>\n",
              "      <td>1990</td>\n",
              "      <td>Golf</td>\n",
              "    </tr>\n",
              "    <tr>\n",
              "      <th>1658</th>\n",
              "      <td>Will Clark</td>\n",
              "      <td>3.8</td>\n",
              "      <td>1990</td>\n",
              "      <td>Baseball</td>\n",
              "    </tr>\n",
              "  </tbody>\n",
              "</table>\n",
              "</div>"
            ],
            "text/plain": [
              "                   Name  Earnings  Year       Sport\n",
              "1629         Mike Tyson      28.6  1990      Boxing\n",
              "1630     Buster Douglas      26.0  1990      Boxing\n",
              "1631  Sugar Ray Leonard      13.0  1990      Boxing\n",
              "1632       Ayrton Senna      10.0  1990      Racing\n",
              "1633        Alain Prost       9.0  1990      Racing\n",
              "1634      Jack Nicklaus       8.6  1990        Golf\n",
              "1635        Greg Norman       8.5  1990        Golf\n",
              "1636     Michael Jordan       8.5  1990  Basketball\n",
              "1637      Arnold Palmer       8.1  1990        Golf\n",
              "1638  Evander Holyfield       8.1  1990      Boxing\n",
              "1639       Boris Becker       7.2  1990      Tennis\n",
              "1640      Nigel Mansell       7.0  1990      Racing\n",
              "1641        Steffi Graf       6.1  1990      Tennis\n",
              "1642       Jose Canseco       6.0  1990    Baseball\n",
              "1643      Wayne Gretzky       6.0  1990      Hockey\n",
              "1644       Andre Agassi       5.5  1990      Tennis\n",
              "1645      Stefan Edberg       5.5  1990      Tennis\n",
              "1646         Ivan Lendl       5.3  1990      Tennis\n",
              "1647     Diego Maradona       5.0  1990      Soccer\n",
              "1648      Don Mattingly       4.8  1990    Baseball\n",
              "1649         Bo Jackson       4.5  1990    Baseball\n",
              "1650  Gabriela Sabatini       4.5  1990      Tennis\n",
              "1651      Magic Johnson       4.5  1990  Basketball\n",
              "1652        Robin Yount       4.5  1990    Baseball\n",
              "1653        Joe Montana       4.4  1990    Football\n",
              "1654      Patrick Ewing       4.2  1990  Basketball\n",
              "1655        Greg LeMond       4.2  1990     Cycling\n",
              "1656     Gerhard Berger       4.0  1990      Racing\n",
              "1657     Curtis Strange       3.8  1990        Golf\n",
              "1658         Will Clark       3.8  1990    Baseball"
            ]
          },
          "metadata": {},
          "execution_count": 26
        }
      ]
    },
    {
      "cell_type": "code",
      "metadata": {
        "id": "uqRWle43GNHq",
        "colab": {
          "base_uri": "https://localhost:8080/",
          "height": 143
        },
        "outputId": "f73defe1-60c2-409a-9aec-9874ed4b9925"
      },
      "source": [
        "#@title Full description of 1990\n",
        "df[(df['Year'] == 1990)].agg(['mean', 'median', 'std'])"
      ],
      "execution_count": null,
      "outputs": [
        {
          "output_type": "execute_result",
          "data": {
            "text/html": [
              "<div>\n",
              "<style scoped>\n",
              "    .dataframe tbody tr th:only-of-type {\n",
              "        vertical-align: middle;\n",
              "    }\n",
              "\n",
              "    .dataframe tbody tr th {\n",
              "        vertical-align: top;\n",
              "    }\n",
              "\n",
              "    .dataframe thead th {\n",
              "        text-align: right;\n",
              "    }\n",
              "</style>\n",
              "<table border=\"1\" class=\"dataframe\">\n",
              "  <thead>\n",
              "    <tr style=\"text-align: right;\">\n",
              "      <th></th>\n",
              "      <th>Earnings</th>\n",
              "      <th>Year</th>\n",
              "    </tr>\n",
              "  </thead>\n",
              "  <tbody>\n",
              "    <tr>\n",
              "      <th>mean</th>\n",
              "      <td>7.640000</td>\n",
              "      <td>1990.0</td>\n",
              "    </tr>\n",
              "    <tr>\n",
              "      <th>median</th>\n",
              "      <td>5.750000</td>\n",
              "      <td>1990.0</td>\n",
              "    </tr>\n",
              "    <tr>\n",
              "      <th>std</th>\n",
              "      <td>5.782709</td>\n",
              "      <td>0.0</td>\n",
              "    </tr>\n",
              "  </tbody>\n",
              "</table>\n",
              "</div>"
            ],
            "text/plain": [
              "        Earnings    Year\n",
              "mean    7.640000  1990.0\n",
              "median  5.750000  1990.0\n",
              "std     5.782709     0.0"
            ]
          },
          "metadata": {},
          "execution_count": 27
        }
      ]
    },
    {
      "cell_type": "code",
      "metadata": {
        "id": "J1mK0MmKXT6B",
        "colab": {
          "base_uri": "https://localhost:8080/",
          "height": 677
        },
        "outputId": "7b0847ff-96e2-4dc9-83c4-9a726894afca"
      },
      "source": [
        "#@title Top 20 the highest Earnings \n",
        "df.sort_values(['Earnings'], ascending=[False]).head(20)"
      ],
      "execution_count": null,
      "outputs": [
        {
          "output_type": "execute_result",
          "data": {
            "text/html": [
              "<div>\n",
              "<style scoped>\n",
              "    .dataframe tbody tr th:only-of-type {\n",
              "        vertical-align: middle;\n",
              "    }\n",
              "\n",
              "    .dataframe tbody tr th {\n",
              "        vertical-align: top;\n",
              "    }\n",
              "\n",
              "    .dataframe thead th {\n",
              "        text-align: right;\n",
              "    }\n",
              "</style>\n",
              "<table border=\"1\" class=\"dataframe\">\n",
              "  <thead>\n",
              "    <tr style=\"text-align: right;\">\n",
              "      <th></th>\n",
              "      <th>Name</th>\n",
              "      <th>Earnings</th>\n",
              "      <th>Year</th>\n",
              "      <th>Sport</th>\n",
              "    </tr>\n",
              "  </thead>\n",
              "  <tbody>\n",
              "    <tr>\n",
              "      <th>550</th>\n",
              "      <td>Floyd Mayweather</td>\n",
              "      <td>300.0</td>\n",
              "      <td>2015</td>\n",
              "      <td>Boxing</td>\n",
              "    </tr>\n",
              "    <tr>\n",
              "      <th>250</th>\n",
              "      <td>Floyd Mayweather</td>\n",
              "      <td>285.0</td>\n",
              "      <td>2018</td>\n",
              "      <td>Boxing</td>\n",
              "    </tr>\n",
              "    <tr>\n",
              "      <th>0</th>\n",
              "      <td>Conor McGregor</td>\n",
              "      <td>180.0</td>\n",
              "      <td>2021</td>\n",
              "      <td>Mixed Martial Arts</td>\n",
              "    </tr>\n",
              "    <tr>\n",
              "      <th>551</th>\n",
              "      <td>Manny Pacquiao</td>\n",
              "      <td>160.0</td>\n",
              "      <td>2015</td>\n",
              "      <td>Boxing</td>\n",
              "    </tr>\n",
              "    <tr>\n",
              "      <th>1</th>\n",
              "      <td>Lionel Messi</td>\n",
              "      <td>130.0</td>\n",
              "      <td>2021</td>\n",
              "      <td>Soccer</td>\n",
              "    </tr>\n",
              "    <tr>\n",
              "      <th>150</th>\n",
              "      <td>Lionel Messi</td>\n",
              "      <td>127.0</td>\n",
              "      <td>2019</td>\n",
              "      <td>Soccer</td>\n",
              "    </tr>\n",
              "    <tr>\n",
              "      <th>2</th>\n",
              "      <td>Cristiano Ronaldo</td>\n",
              "      <td>120.0</td>\n",
              "      <td>2021</td>\n",
              "      <td>Soccer</td>\n",
              "    </tr>\n",
              "    <tr>\n",
              "      <th>1068</th>\n",
              "      <td>Tiger Woods</td>\n",
              "      <td>115.0</td>\n",
              "      <td>2008</td>\n",
              "      <td>Golf</td>\n",
              "    </tr>\n",
              "    <tr>\n",
              "      <th>251</th>\n",
              "      <td>Lionel Messi</td>\n",
              "      <td>111.0</td>\n",
              "      <td>2018</td>\n",
              "      <td>Soccer</td>\n",
              "    </tr>\n",
              "    <tr>\n",
              "      <th>1050</th>\n",
              "      <td>Tiger Woods</td>\n",
              "      <td>110.0</td>\n",
              "      <td>2009</td>\n",
              "      <td>Golf</td>\n",
              "    </tr>\n",
              "    <tr>\n",
              "      <th>151</th>\n",
              "      <td>Cristiano Ronaldo</td>\n",
              "      <td>109.0</td>\n",
              "      <td>2019</td>\n",
              "      <td>Soccer</td>\n",
              "    </tr>\n",
              "    <tr>\n",
              "      <th>252</th>\n",
              "      <td>Cristiano Ronaldo</td>\n",
              "      <td>108.0</td>\n",
              "      <td>2018</td>\n",
              "      <td>Soccer</td>\n",
              "    </tr>\n",
              "    <tr>\n",
              "      <th>3</th>\n",
              "      <td>Dak Prescott</td>\n",
              "      <td>107.5</td>\n",
              "      <td>2021</td>\n",
              "      <td>Football</td>\n",
              "    </tr>\n",
              "    <tr>\n",
              "      <th>50</th>\n",
              "      <td>Roger Federer</td>\n",
              "      <td>106.3</td>\n",
              "      <td>2020</td>\n",
              "      <td>Tennis</td>\n",
              "    </tr>\n",
              "    <tr>\n",
              "      <th>650</th>\n",
              "      <td>Floyd Mayweather</td>\n",
              "      <td>105.0</td>\n",
              "      <td>2014</td>\n",
              "      <td>Boxing</td>\n",
              "    </tr>\n",
              "    <tr>\n",
              "      <th>51</th>\n",
              "      <td>Cristiano Ronaldo</td>\n",
              "      <td>105.0</td>\n",
              "      <td>2020</td>\n",
              "      <td>Soccer</td>\n",
              "    </tr>\n",
              "    <tr>\n",
              "      <th>1000</th>\n",
              "      <td>Tiger Woods</td>\n",
              "      <td>105.0</td>\n",
              "      <td>2010</td>\n",
              "      <td>Golf</td>\n",
              "    </tr>\n",
              "    <tr>\n",
              "      <th>152</th>\n",
              "      <td>Neymar</td>\n",
              "      <td>105.0</td>\n",
              "      <td>2019</td>\n",
              "      <td>Soccer</td>\n",
              "    </tr>\n",
              "    <tr>\n",
              "      <th>52</th>\n",
              "      <td>Lionel Messi</td>\n",
              "      <td>104.0</td>\n",
              "      <td>2020</td>\n",
              "      <td>Soccer</td>\n",
              "    </tr>\n",
              "    <tr>\n",
              "      <th>1089</th>\n",
              "      <td>Tiger Woods</td>\n",
              "      <td>100.0</td>\n",
              "      <td>2007</td>\n",
              "      <td>Golf</td>\n",
              "    </tr>\n",
              "  </tbody>\n",
              "</table>\n",
              "</div>"
            ],
            "text/plain": [
              "                   Name  Earnings  Year               Sport\n",
              "550    Floyd Mayweather     300.0  2015              Boxing\n",
              "250    Floyd Mayweather     285.0  2018              Boxing\n",
              "0        Conor McGregor     180.0  2021  Mixed Martial Arts\n",
              "551      Manny Pacquiao     160.0  2015              Boxing\n",
              "1          Lionel Messi     130.0  2021              Soccer\n",
              "150        Lionel Messi     127.0  2019              Soccer\n",
              "2     Cristiano Ronaldo     120.0  2021              Soccer\n",
              "1068        Tiger Woods     115.0  2008                Golf\n",
              "251        Lionel Messi     111.0  2018              Soccer\n",
              "1050        Tiger Woods     110.0  2009                Golf\n",
              "151   Cristiano Ronaldo     109.0  2019              Soccer\n",
              "252   Cristiano Ronaldo     108.0  2018              Soccer\n",
              "3          Dak Prescott     107.5  2021            Football\n",
              "50        Roger Federer     106.3  2020              Tennis\n",
              "650    Floyd Mayweather     105.0  2014              Boxing\n",
              "51    Cristiano Ronaldo     105.0  2020              Soccer\n",
              "1000        Tiger Woods     105.0  2010                Golf\n",
              "152              Neymar     105.0  2019              Soccer\n",
              "52         Lionel Messi     104.0  2020              Soccer\n",
              "1089        Tiger Woods     100.0  2007                Golf"
            ]
          },
          "metadata": {},
          "execution_count": 28
        }
      ]
    },
    {
      "cell_type": "code",
      "metadata": {
        "id": "6g2czjb0cof6",
        "colab": {
          "base_uri": "https://localhost:8080/",
          "height": 677
        },
        "outputId": "87904be7-e5ac-4b57-a10d-b9835d7398bc"
      },
      "source": [
        "#@title Top 20 the least Earnings\n",
        "df.sort_values(['Earnings'], ascending=[True]).head(20)"
      ],
      "execution_count": null,
      "outputs": [
        {
          "output_type": "execute_result",
          "data": {
            "text/html": [
              "<div>\n",
              "<style scoped>\n",
              "    .dataframe tbody tr th:only-of-type {\n",
              "        vertical-align: middle;\n",
              "    }\n",
              "\n",
              "    .dataframe tbody tr th {\n",
              "        vertical-align: top;\n",
              "    }\n",
              "\n",
              "    .dataframe thead th {\n",
              "        text-align: right;\n",
              "    }\n",
              "</style>\n",
              "<table border=\"1\" class=\"dataframe\">\n",
              "  <thead>\n",
              "    <tr style=\"text-align: right;\">\n",
              "      <th></th>\n",
              "      <th>Name</th>\n",
              "      <th>Earnings</th>\n",
              "      <th>Year</th>\n",
              "      <th>Sport</th>\n",
              "    </tr>\n",
              "  </thead>\n",
              "  <tbody>\n",
              "    <tr>\n",
              "      <th>1658</th>\n",
              "      <td>Will Clark</td>\n",
              "      <td>3.8</td>\n",
              "      <td>1990</td>\n",
              "      <td>Baseball</td>\n",
              "    </tr>\n",
              "    <tr>\n",
              "      <th>1657</th>\n",
              "      <td>Curtis Strange</td>\n",
              "      <td>3.8</td>\n",
              "      <td>1990</td>\n",
              "      <td>Golf</td>\n",
              "    </tr>\n",
              "    <tr>\n",
              "      <th>1628</th>\n",
              "      <td>Joe Carter</td>\n",
              "      <td>3.9</td>\n",
              "      <td>1991</td>\n",
              "      <td>Baseball</td>\n",
              "    </tr>\n",
              "    <tr>\n",
              "      <th>1627</th>\n",
              "      <td>Curtis Strange</td>\n",
              "      <td>4.0</td>\n",
              "      <td>1991</td>\n",
              "      <td>Golf</td>\n",
              "    </tr>\n",
              "    <tr>\n",
              "      <th>1656</th>\n",
              "      <td>Gerhard Berger</td>\n",
              "      <td>4.0</td>\n",
              "      <td>1990</td>\n",
              "      <td>Racing</td>\n",
              "    </tr>\n",
              "    <tr>\n",
              "      <th>1626</th>\n",
              "      <td>Kevin Mitchell</td>\n",
              "      <td>4.1</td>\n",
              "      <td>1991</td>\n",
              "      <td>Baseball</td>\n",
              "    </tr>\n",
              "    <tr>\n",
              "      <th>1655</th>\n",
              "      <td>Greg LeMond</td>\n",
              "      <td>4.2</td>\n",
              "      <td>1990</td>\n",
              "      <td>Cycling</td>\n",
              "    </tr>\n",
              "    <tr>\n",
              "      <th>1654</th>\n",
              "      <td>Patrick Ewing</td>\n",
              "      <td>4.2</td>\n",
              "      <td>1990</td>\n",
              "      <td>Basketball</td>\n",
              "    </tr>\n",
              "    <tr>\n",
              "      <th>1625</th>\n",
              "      <td>Nelson Piquet</td>\n",
              "      <td>4.2</td>\n",
              "      <td>1991</td>\n",
              "      <td>Racing</td>\n",
              "    </tr>\n",
              "    <tr>\n",
              "      <th>1624</th>\n",
              "      <td>Will Clark</td>\n",
              "      <td>4.2</td>\n",
              "      <td>1991</td>\n",
              "      <td>Baseball</td>\n",
              "    </tr>\n",
              "    <tr>\n",
              "      <th>1623</th>\n",
              "      <td>Greg LeMond</td>\n",
              "      <td>4.3</td>\n",
              "      <td>1991</td>\n",
              "      <td>Cycling</td>\n",
              "    </tr>\n",
              "    <tr>\n",
              "      <th>1621</th>\n",
              "      <td>Hakeem Olajuwon</td>\n",
              "      <td>4.3</td>\n",
              "      <td>1991</td>\n",
              "      <td>Basketball</td>\n",
              "    </tr>\n",
              "    <tr>\n",
              "      <th>1622</th>\n",
              "      <td>Darryl Strawberry</td>\n",
              "      <td>4.3</td>\n",
              "      <td>1991</td>\n",
              "      <td>Baseball</td>\n",
              "    </tr>\n",
              "    <tr>\n",
              "      <th>1620</th>\n",
              "      <td>Pete Sampras</td>\n",
              "      <td>4.4</td>\n",
              "      <td>1991</td>\n",
              "      <td>Tennis</td>\n",
              "    </tr>\n",
              "    <tr>\n",
              "      <th>1653</th>\n",
              "      <td>Joe Montana</td>\n",
              "      <td>4.4</td>\n",
              "      <td>1990</td>\n",
              "      <td>Football</td>\n",
              "    </tr>\n",
              "    <tr>\n",
              "      <th>1650</th>\n",
              "      <td>Gabriela Sabatini</td>\n",
              "      <td>4.5</td>\n",
              "      <td>1990</td>\n",
              "      <td>Tennis</td>\n",
              "    </tr>\n",
              "    <tr>\n",
              "      <th>1651</th>\n",
              "      <td>Magic Johnson</td>\n",
              "      <td>4.5</td>\n",
              "      <td>1990</td>\n",
              "      <td>Basketball</td>\n",
              "    </tr>\n",
              "    <tr>\n",
              "      <th>1652</th>\n",
              "      <td>Robin Yount</td>\n",
              "      <td>4.5</td>\n",
              "      <td>1990</td>\n",
              "      <td>Baseball</td>\n",
              "    </tr>\n",
              "    <tr>\n",
              "      <th>1649</th>\n",
              "      <td>Bo Jackson</td>\n",
              "      <td>4.5</td>\n",
              "      <td>1990</td>\n",
              "      <td>Baseball</td>\n",
              "    </tr>\n",
              "    <tr>\n",
              "      <th>1619</th>\n",
              "      <td>Bo Jackson</td>\n",
              "      <td>4.5</td>\n",
              "      <td>1991</td>\n",
              "      <td>Baseball</td>\n",
              "    </tr>\n",
              "  </tbody>\n",
              "</table>\n",
              "</div>"
            ],
            "text/plain": [
              "                   Name  Earnings  Year       Sport\n",
              "1658         Will Clark       3.8  1990    Baseball\n",
              "1657     Curtis Strange       3.8  1990        Golf\n",
              "1628         Joe Carter       3.9  1991    Baseball\n",
              "1627     Curtis Strange       4.0  1991        Golf\n",
              "1656     Gerhard Berger       4.0  1990      Racing\n",
              "1626     Kevin Mitchell       4.1  1991    Baseball\n",
              "1655        Greg LeMond       4.2  1990     Cycling\n",
              "1654      Patrick Ewing       4.2  1990  Basketball\n",
              "1625      Nelson Piquet       4.2  1991      Racing\n",
              "1624         Will Clark       4.2  1991    Baseball\n",
              "1623        Greg LeMond       4.3  1991     Cycling\n",
              "1621    Hakeem Olajuwon       4.3  1991  Basketball\n",
              "1622  Darryl Strawberry       4.3  1991    Baseball\n",
              "1620       Pete Sampras       4.4  1991      Tennis\n",
              "1653        Joe Montana       4.4  1990    Football\n",
              "1650  Gabriela Sabatini       4.5  1990      Tennis\n",
              "1651      Magic Johnson       4.5  1990  Basketball\n",
              "1652        Robin Yount       4.5  1990    Baseball\n",
              "1649         Bo Jackson       4.5  1990    Baseball\n",
              "1619         Bo Jackson       4.5  1991    Baseball"
            ]
          },
          "metadata": {},
          "execution_count": 29
        }
      ]
    },
    {
      "cell_type": "markdown",
      "source": [
        "###Below are the statistics of the most popular sports in this dataset. \n",
        "###You can see the top 5 most popular sports and then more detailed statistics of basketball and boxing, selected by me according to personal preferences, to find out more information."
      ],
      "metadata": {
        "id": "yAfGLBsqyg5O"
      }
    },
    {
      "cell_type": "code",
      "metadata": {
        "id": "QricJGoQHyfL",
        "colab": {
          "base_uri": "https://localhost:8080/"
        },
        "outputId": "e7e3a1c5-cea3-4b1f-e60c-eec90e98fc89"
      },
      "source": [
        "#@title Top 5 the most popular Sports\n",
        "df[['Sport']].value_counts().head(5)"
      ],
      "execution_count": null,
      "outputs": [
        {
          "output_type": "execute_result",
          "data": {
            "text/plain": [
              "Sport     \n",
              "Basketball    403\n",
              "Baseball      285\n",
              "Football      260\n",
              "Tennis        158\n",
              "Soccer        147\n",
              "dtype: int64"
            ]
          },
          "metadata": {},
          "execution_count": 30
        }
      ]
    },
    {
      "cell_type": "code",
      "metadata": {
        "id": "F6ejkMmILdYh",
        "colab": {
          "base_uri": "https://localhost:8080/",
          "height": 300
        },
        "outputId": "7e39d2f0-c290-442e-c9ad-aa5a45041877"
      },
      "source": [
        "df[(df['Sport'] == 'Basketball')].describe()"
      ],
      "execution_count": null,
      "outputs": [
        {
          "output_type": "execute_result",
          "data": {
            "text/html": [
              "<div>\n",
              "<style scoped>\n",
              "    .dataframe tbody tr th:only-of-type {\n",
              "        vertical-align: middle;\n",
              "    }\n",
              "\n",
              "    .dataframe tbody tr th {\n",
              "        vertical-align: top;\n",
              "    }\n",
              "\n",
              "    .dataframe thead th {\n",
              "        text-align: right;\n",
              "    }\n",
              "</style>\n",
              "<table border=\"1\" class=\"dataframe\">\n",
              "  <thead>\n",
              "    <tr style=\"text-align: right;\">\n",
              "      <th></th>\n",
              "      <th>Earnings</th>\n",
              "      <th>Year</th>\n",
              "    </tr>\n",
              "  </thead>\n",
              "  <tbody>\n",
              "    <tr>\n",
              "      <th>count</th>\n",
              "      <td>403.000000</td>\n",
              "      <td>403.000000</td>\n",
              "    </tr>\n",
              "    <tr>\n",
              "      <th>mean</th>\n",
              "      <td>28.721588</td>\n",
              "      <td>2010.980149</td>\n",
              "    </tr>\n",
              "    <tr>\n",
              "      <th>std</th>\n",
              "      <td>14.966753</td>\n",
              "      <td>8.738011</td>\n",
              "    </tr>\n",
              "    <tr>\n",
              "      <th>min</th>\n",
              "      <td>4.200000</td>\n",
              "      <td>1990.000000</td>\n",
              "    </tr>\n",
              "    <tr>\n",
              "      <th>25%</th>\n",
              "      <td>21.050000</td>\n",
              "      <td>2004.000000</td>\n",
              "    </tr>\n",
              "    <tr>\n",
              "      <th>50%</th>\n",
              "      <td>25.900000</td>\n",
              "      <td>2014.000000</td>\n",
              "    </tr>\n",
              "    <tr>\n",
              "      <th>75%</th>\n",
              "      <td>32.800000</td>\n",
              "      <td>2018.000000</td>\n",
              "    </tr>\n",
              "    <tr>\n",
              "      <th>max</th>\n",
              "      <td>96.500000</td>\n",
              "      <td>2021.000000</td>\n",
              "    </tr>\n",
              "  </tbody>\n",
              "</table>\n",
              "</div>"
            ],
            "text/plain": [
              "         Earnings         Year\n",
              "count  403.000000   403.000000\n",
              "mean    28.721588  2010.980149\n",
              "std     14.966753     8.738011\n",
              "min      4.200000  1990.000000\n",
              "25%     21.050000  2004.000000\n",
              "50%     25.900000  2014.000000\n",
              "75%     32.800000  2018.000000\n",
              "max     96.500000  2021.000000"
            ]
          },
          "metadata": {},
          "execution_count": 31
        }
      ]
    },
    {
      "cell_type": "code",
      "metadata": {
        "id": "lN1VZ-5tMTu4",
        "colab": {
          "base_uri": "https://localhost:8080/",
          "height": 300
        },
        "outputId": "0bc9d95c-280b-4d1e-aa34-ee27a8f68e31"
      },
      "source": [
        "df[(df['Sport'] == 'Boxing')].describe()"
      ],
      "execution_count": null,
      "outputs": [
        {
          "output_type": "execute_result",
          "data": {
            "text/html": [
              "<div>\n",
              "<style scoped>\n",
              "    .dataframe tbody tr th:only-of-type {\n",
              "        vertical-align: middle;\n",
              "    }\n",
              "\n",
              "    .dataframe tbody tr th {\n",
              "        vertical-align: top;\n",
              "    }\n",
              "\n",
              "    .dataframe thead th {\n",
              "        text-align: right;\n",
              "    }\n",
              "</style>\n",
              "<table border=\"1\" class=\"dataframe\">\n",
              "  <thead>\n",
              "    <tr style=\"text-align: right;\">\n",
              "      <th></th>\n",
              "      <th>Earnings</th>\n",
              "      <th>Year</th>\n",
              "    </tr>\n",
              "  </thead>\n",
              "  <tbody>\n",
              "    <tr>\n",
              "      <th>count</th>\n",
              "      <td>100.000000</td>\n",
              "      <td>100.000000</td>\n",
              "    </tr>\n",
              "    <tr>\n",
              "      <th>mean</th>\n",
              "      <td>34.920000</td>\n",
              "      <td>2003.620000</td>\n",
              "    </tr>\n",
              "    <tr>\n",
              "      <th>std</th>\n",
              "      <td>43.718156</td>\n",
              "      <td>10.247227</td>\n",
              "    </tr>\n",
              "    <tr>\n",
              "      <th>min</th>\n",
              "      <td>5.200000</td>\n",
              "      <td>1990.000000</td>\n",
              "    </tr>\n",
              "    <tr>\n",
              "      <th>25%</th>\n",
              "      <td>12.775000</td>\n",
              "      <td>1995.000000</td>\n",
              "    </tr>\n",
              "    <tr>\n",
              "      <th>50%</th>\n",
              "      <td>25.000000</td>\n",
              "      <td>1999.500000</td>\n",
              "    </tr>\n",
              "    <tr>\n",
              "      <th>75%</th>\n",
              "      <td>39.250000</td>\n",
              "      <td>2014.000000</td>\n",
              "    </tr>\n",
              "    <tr>\n",
              "      <th>max</th>\n",
              "      <td>300.000000</td>\n",
              "      <td>2021.000000</td>\n",
              "    </tr>\n",
              "  </tbody>\n",
              "</table>\n",
              "</div>"
            ],
            "text/plain": [
              "         Earnings         Year\n",
              "count  100.000000   100.000000\n",
              "mean    34.920000  2003.620000\n",
              "std     43.718156    10.247227\n",
              "min      5.200000  1990.000000\n",
              "25%     12.775000  1995.000000\n",
              "50%     25.000000  1999.500000\n",
              "75%     39.250000  2014.000000\n",
              "max    300.000000  2021.000000"
            ]
          },
          "metadata": {},
          "execution_count": 32
        }
      ]
    },
    {
      "cell_type": "code",
      "metadata": {
        "id": "ThVjkyv9Euz1",
        "colab": {
          "base_uri": "https://localhost:8080/"
        },
        "outputId": "b458e6b5-437e-4a9f-fef5-3838bca91bef"
      },
      "source": [
        "df.groupby('Name')['Earnings'].sum().sort_values(ascending=False)[:10]"
      ],
      "execution_count": null,
      "outputs": [
        {
          "output_type": "execute_result",
          "data": {
            "text/plain": [
              "Name\n",
              "Tiger Woods           1632.2\n",
              "Floyd Mayweather       944.5\n",
              "Cristiano Ronaldo      942.9\n",
              "Roger Federer          933.1\n",
              "Lionel Messi           911.5\n",
              "LeBron James           820.5\n",
              "Phil Mickelson         781.7\n",
              "Michael Jordan         739.2\n",
              "Michael Schumacher     703.0\n",
              "Kobe Bryant            621.0\n",
              "Name: Earnings, dtype: float64"
            ]
          },
          "metadata": {},
          "execution_count": 33
        }
      ]
    },
    {
      "cell_type": "markdown",
      "metadata": {
        "id": "3u3RGz8EkoDM"
      },
      "source": [
        "\n",
        "#Part 3. Plots"
      ]
    },
    {
      "cell_type": "markdown",
      "source": [
        "###In the graph below, you can see in which sport what amounts were earned. \n",
        "###The correctness of this chart can be determined by the indicator of 300 million, which is just in the Boxing line, Floyd Mayweather boxer earned 300 million in 2015."
      ],
      "metadata": {
        "id": "1n_n3gt-CFU_"
      }
    },
    {
      "cell_type": "code",
      "metadata": {
        "id": "ZGfyXnIpeeRG",
        "colab": {
          "base_uri": "https://localhost:8080/",
          "height": 568
        },
        "outputId": "d2d4eb3f-c201-4017-b760-2974148c49dc"
      },
      "source": [
        "sns.boxplot(data = df, x='Earnings', y='Sport' )"
      ],
      "execution_count": null,
      "outputs": [
        {
          "output_type": "execute_result",
          "data": {
            "text/plain": [
              "<matplotlib.axes._subplots.AxesSubplot at 0x7f51ed890190>"
            ]
          },
          "metadata": {},
          "execution_count": 9
        },
        {
          "output_type": "display_data",
          "data": {
            "image/png": "[encoded data removed]",
            "text/plain": [
              "<Figure size 1008x648 with 1 Axes>"
            ]
          },
          "metadata": {
            "needs_background": "light"
          }
        }
      ]
    },
    {
      "cell_type": "markdown",
      "source": [
        "###In the graph below, you can see approximately how many people have earned what money. \n",
        "###For example, very few people earned 300 million, so the column is the smallest, but the column between 0 and 100 is the largest, because there are many more such athletes."
      ],
      "metadata": {
        "id": "JZrtRUBMBqc3"
      }
    },
    {
      "cell_type": "code",
      "metadata": {
        "id": "bECBilyBN7OU",
        "colab": {
          "base_uri": "https://localhost:8080/",
          "height": 369
        },
        "outputId": "c4a7f125-404d-496d-ceee-530071ee4283"
      },
      "source": [
        "ax = sns.displot(data = df, x = 'Earnings', kind='hist', bins=10)"
      ],
      "execution_count": null,
      "outputs": [
        {
          "output_type": "display_data",
          "data": {
            "image/png": "[encoded data removed]",
            "text/plain": [
              "<Figure size 360x360 with 1 Axes>"
            ]
          },
          "metadata": {
            "needs_background": "light"
          }
        }
      ]
    },
    {
      "cell_type": "markdown",
      "source": [
        "###In the graph below, you can see what the earnings were for each year."
      ],
      "metadata": {
        "id": "qhX46LHFBEcB"
      }
    },
    {
      "cell_type": "code",
      "metadata": {
        "id": "6P0p3P98TIuf",
        "colab": {
          "base_uri": "https://localhost:8080/",
          "height": 369
        },
        "outputId": "4c3f3007-55ab-4da9-eec8-79b6a1339246"
      },
      "source": [
        "ax = sns.displot(data = df, x = 'Year', kind='hist', bins=10)"
      ],
      "execution_count": null,
      "outputs": [
        {
          "output_type": "display_data",
          "data": {
            "image/png": "[encoded data removed]",
            "text/plain": [
              "<Figure size 360x360 with 1 Axes>"
            ]
          },
          "metadata": {
            "needs_background": "light"
          }
        }
      ]
    },
    {
      "cell_type": "markdown",
      "source": [
        "###In the graph below, you can see the dependence of sports on the year. \n",
        "###Find out in which years, which sport was more in demand."
      ],
      "metadata": {
        "id": "l71wokzGAMmm"
      }
    },
    {
      "cell_type": "code",
      "metadata": {
        "id": "Ww6yvkAsSYDe",
        "colab": {
          "base_uri": "https://localhost:8080/",
          "height": 402
        },
        "outputId": "af6bebdd-9601-4147-ae45-22c04a3f2bee"
      },
      "source": [
        "ax = sns.displot(data = df, x = 'Year', kind='hist', bins=10, hue='Sport')\n",
        "plt.title('Dependence of sports on the year')"
      ],
      "execution_count": null,
      "outputs": [
        {
          "output_type": "execute_result",
          "data": {
            "text/plain": [
              "Text(0.5, 1.0, 'Dependence of sports on the year')"
            ]
          },
          "metadata": {},
          "execution_count": 5
        },
        {
          "output_type": "display_data",
          "data": {
            "image/png": "[encoded data removed]",
            "text/plain": [
              "<Figure size 486.625x360 with 1 Axes>"
            ]
          },
          "metadata": {
            "needs_background": "light"
          }
        }
      ]
    },
    {
      "cell_type": "markdown",
      "source": [],
      "metadata": {
        "id": "iU1CDNrbzs59"
      }
    },
    {
      "cell_type": "markdown",
      "source": [
        "###It became interesting to me to see how many athletes from each sport are represented in this dataset as a percentage. \n",
        "###To answer this question, I have built a pie chart on which everything is very clearly depicted."
      ],
      "metadata": {
        "id": "QG1RMWHdJvrS"
      }
    },
    {
      "cell_type": "code",
      "metadata": {
        "id": "xVtqJmqWXbVU",
        "colab": {
          "base_uri": "https://localhost:8080/",
          "height": 563
        },
        "outputId": "e43dfb53-a8dd-4f02-fa5d-498bfb08fb4b"
      },
      "source": [
        "plt.figure(figsize=(25, 10))\n",
        "plt.rc('font', size=15)\n",
        "plt.rc('xtick', labelsize=15)    \n",
        "plt.rc('ytick', labelsize=15)\n",
        "\n",
        "labels = 'Basketball', 'Baseball', 'Football', 'Tennis', 'Others', \n",
        "sizes = [403, 285, 260, 158, 557]\n",
        "\n",
        "fig1, ax1 = plt.subplots()\n",
        "ax1.pie(sizes, labels=labels, autopct='%1.1f%%', startangle=90)\n",
        "ax1.axis('equal')\n",
        "plt.title('The popularity of different sports')\n",
        "\n",
        "\n",
        "plt.show()"
      ],
      "execution_count": null,
      "outputs": [
        {
          "output_type": "display_data",
          "data": {
            "text/plain": [
              "<Figure size 1800x720 with 0 Axes>"
            ]
          },
          "metadata": {}
        },
        {
          "output_type": "display_data",
          "data": {
            "image/png": "[encoded data removed]",
            "text/plain": [
              "<Figure size 1008x648 with 1 Axes>"
            ]
          },
          "metadata": {}
        }
      ]
    },
    {
      "cell_type": "markdown",
      "source": [
        "###I wanted to find out the top 10 athletes who have earned the most money all the time. \n",
        "###To do this, I created a visual table in which 10 athletes are placed in descending order."
      ],
      "metadata": {
        "id": "6OXAFAdF_JwJ"
      }
    },
    {
      "cell_type": "code",
      "metadata": {
        "id": "lbuB69ib888h",
        "colab": {
          "base_uri": "https://localhost:8080/",
          "height": 633
        },
        "outputId": "2ed3f66d-645a-4344-8b4d-05fa8f2cacc8"
      },
      "source": [
        "plt.figure(figsize=(25, 10))\n",
        "plt.rc('font', size=15)\n",
        "plt.rc('xtick', labelsize=15)    \n",
        "plt.rc('ytick', labelsize=15)\n",
        "\n",
        "athlete_salary = df.groupby('Name')['Earnings'].sum().sort_values(ascending=False)[:10]\n",
        "names = [ name for name in athlete_salary.index]\n",
        "sns.barplot(x=names, y=athlete_salary*10**6)\n",
        "plt.title('All Time Top 10 Athletes Salary Rank')"
      ],
      "execution_count": null,
      "outputs": [
        {
          "output_type": "execute_result",
          "data": {
            "text/plain": [
              "Text(0.5, 1.0, 'All Time Top 10 Athletes Salary Rank')"
            ]
          },
          "metadata": {},
          "execution_count": 11
        },
        {
          "output_type": "display_data",
          "data": {
            "image/png": "[encoded data removed]",
            "text/plain": [
              "<Figure size 1800x720 with 1 Axes>"
            ]
          },
          "metadata": {
            "needs_background": "light"
          }
        }
      ]
    },
    {
      "cell_type": "markdown",
      "source": [
        "###I also wondered which top 10 sports brought athletes such money. \n",
        "###After analyzing the entire dataset, you can notice which sports were included in my top, and how many athletes managed to earn in them for all the time."
      ],
      "metadata": {
        "id": "VhPW_zbh_Soz"
      }
    },
    {
      "cell_type": "code",
      "metadata": {
        "id": "8Rg0G14_b3ks",
        "colab": {
          "base_uri": "https://localhost:8080/",
          "height": 633
        },
        "outputId": "5f8f2dd7-bdeb-46f6-b5eb-b39b6f2012de"
      },
      "source": [
        "plt.figure(figsize=(25, 10))\n",
        "plt.rc('font', size=15)\n",
        "plt.rc('xtick', labelsize=15)    \n",
        "plt.rc('ytick', labelsize=15)\n",
        "\n",
        "sports = df.groupby('Sport')['Earnings'].sum().sort_values(ascending=False)[:10]\n",
        "sport_kind = [sport for sport in sports.index]\n",
        "sns.barplot(x=sport_kind, y=sports*10**6)\n",
        "plt.title('Dependence of Earnings on the sport')\n"
      ],
      "execution_count": null,
      "outputs": [
        {
          "output_type": "execute_result",
          "data": {
            "text/plain": [
              "Text(0.5, 1.0, 'Dependence of Earnings on the sport')"
            ]
          },
          "metadata": {},
          "execution_count": 12
        },
        {
          "output_type": "display_data",
          "data": {
            "image/png": "[encoded data removed]",
            "text/plain": [
              "<Figure size 1800x720 with 1 Axes>"
            ]
          },
          "metadata": {
            "needs_background": "light"
          }
        }
      ]
    },
    {
      "cell_type": "markdown",
      "source": [
        "#Part 4. Conclusion \n",
        "###In conclusion, I would like to say that we were able to analyze this dataset. Take out a lot of new and interesting information from it. For example, in what year from 1990 to 2021 was the biggest earnings among athletes. Find out which sport has higher salaries. To see the growth of earnings depending on the year. With the help of analyses of datasets, we can learn a lot of information stored in it, but not lying on the surface."
      ],
      "metadata": {
        "id": "ejoEHnB7CMfM"
      }
    }
  ]
}